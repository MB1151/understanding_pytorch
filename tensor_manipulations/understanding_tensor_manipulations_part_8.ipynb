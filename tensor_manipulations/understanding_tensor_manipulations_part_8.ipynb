{
 "cells": [
  {
   "cell_type": "code",
   "execution_count": null,
   "metadata": {},
   "outputs": [],
   "source": [
    "# In this notebook, you learn:\n",
    "#\n",
    "# 1) How torch.unique() works?\n",
    "# 2) How torch.unbind() works?"
   ]
  },
  {
   "cell_type": "code",
   "execution_count": 2,
   "metadata": {},
   "outputs": [],
   "source": [
    "import torch"
   ]
  },
  {
   "cell_type": "markdown",
   "metadata": {},
   "source": [
    "## [torch.unique](https://pytorch.org/docs/stable/generated/torch.unique.html)"
   ]
  },
  {
   "cell_type": "code",
   "execution_count": 3,
   "metadata": {},
   "outputs": [],
   "source": [
    "# This helps us get unique elements in a tensor. "
   ]
  },
  {
   "cell_type": "markdown",
   "metadata": {},
   "source": [
    "Lets see how to apply torch.unique on a 1D tensor"
   ]
  },
  {
   "cell_type": "code",
   "execution_count": 5,
   "metadata": {},
   "outputs": [
    {
     "name": "stdout",
     "output_type": "stream",
     "text": [
      "shape of t1: torch.Size([8])\n",
      "t1: tensor([1, 2, 5, 2, 3, 1, 6, 7], dtype=torch.int32)\n"
     ]
    }
   ],
   "source": [
    "t1 = torch.tensor(data=[1, 2, 5, 2, 3, 1, 6, 7], dtype=torch.int32)\n",
    "print(f\"shape of t1: {t1.shape}\")\n",
    "print(f\"t1: {t1}\")"
   ]
  },
  {
   "cell_type": "code",
   "execution_count": null,
   "metadata": {},
   "outputs": [
    {
     "name": "stdout",
     "output_type": "stream",
     "text": [
      "shape of t2: torch.Size([6])\n",
      "t2: tensor([1, 2, 3, 5, 6, 7], dtype=torch.int32)\n"
     ]
    }
   ],
   "source": [
    "# Every tensor along the given dimension will be considered an element and the uniqueness is calculated for these \n",
    "# tensors as a whole. Here the elements along dimension 0 are 1, 2, 5, 2, 3, 1, 6, 7. The unique elements are \n",
    "# 1, 2, 5, 3, 6, 7. So the output will have 6 elements and they are sorted by default.\n",
    "t2 = torch.unique(input=t1, dim=0)\n",
    "print(f\"shape of t2: {t2.shape}\")\n",
    "print(f\"t2: {t2}\")"
   ]
  },
  {
   "cell_type": "code",
   "execution_count": null,
   "metadata": {},
   "outputs": [
    {
     "name": "stdout",
     "output_type": "stream",
     "text": [
      "shape of t3: torch.Size([6])\n",
      "t3: tensor([1, 2, 3, 5, 6, 7], dtype=torch.int32)\n",
      "------------------------------------------------------------------------------------------------------------------------------------------------------\n",
      "shape of t3_counts: torch.Size([6])\n",
      "t3_counts: tensor([2, 2, 1, 1, 1, 1])\n"
     ]
    }
   ],
   "source": [
    "# return_counts=True will also return the count of each unique element i.e., the number of times\n",
    "# each unique element appears in the input tensor.\n",
    "# Unique elements -- [1, 2, 3, 5, 6, 7]\n",
    "# Count of each unique element -- [2, 2, 1, 1, 1, 1]\n",
    "# 1 --> 2 times\n",
    "# 2 --> 2 times\n",
    "# 3 --> 1 time\n",
    "# 5 --> 1 time\n",
    "# 6 --> 1 time\n",
    "# 7 --> 1 time\n",
    "t3_unique_elements, t3_counts = torch.unique(input=t1, dim=0, return_counts=True)\n",
    "print(f\"shape of t3: {t3_unique_elements.shape}\")\n",
    "print(f\"t3: {t3_unique_elements}\")\n",
    "print(\"-\" * 150)\n",
    "print(f\"shape of t3_counts: {t3_counts.shape}\")\n",
    "print(f\"t3_counts: {t3_counts}\")"
   ]
  },
  {
   "cell_type": "markdown",
   "metadata": {},
   "source": [
    "Lets see how to apply torch.unique on a 2D tensor"
   ]
  },
  {
   "cell_type": "code",
   "execution_count": 19,
   "metadata": {},
   "outputs": [
    {
     "name": "stdout",
     "output_type": "stream",
     "text": [
      "shape of t4: torch.Size([5, 4])\n",
      "t4: tensor([[ 1,  2,  3,  2],\n",
      "        [ 4,  5,  6, 10],\n",
      "        [ 1,  2,  3,  2],\n",
      "        [ 7,  8,  8,  9],\n",
      "        [ 4,  5,  6, 10]], dtype=torch.int32)\n"
     ]
    }
   ],
   "source": [
    "t4 = torch.tensor(data=[[1, 2, 3, 2], [4, 5, 6, 10], [1, 2, 3, 2], [7, 8, 8, 9], [4, 5, 6, 10]], dtype=torch.int32)\n",
    "print(f\"shape of t4: {t4.shape}\")\n",
    "print(f\"t4: {t4}\")"
   ]
  },
  {
   "cell_type": "code",
   "execution_count": null,
   "metadata": {},
   "outputs": [
    {
     "name": "stdout",
     "output_type": "stream",
     "text": [
      "shape of t5_unique_elements: torch.Size([3, 4])\n",
      "t5_unique_elements: tensor([[ 1,  2,  3,  2],\n",
      "        [ 4,  5,  6, 10],\n",
      "        [ 7,  8,  8,  9]], dtype=torch.int32)\n",
      "------------------------------------------------------------------------------------------------------------------------------------------------------\n",
      "shape of t5_counts: torch.Size([3])\n",
      "t5_counts: tensor([2, 2, 1])\n"
     ]
    }
   ],
   "source": [
    "# The tensors along dimension 0 are [1, 2, 3, 2], [4, 5, 6, 10], [1, 2, 3, 2], [7, 8, 8, 9], [4, 5, 6, 10]. The unique elements (tensors) \n",
    "# are [1, 2, 3, 2], [4, 5, 6, 10], [7, 8, 8, 9]\n",
    "# [1, 2, 3, 2] --> 2 times\n",
    "# [4, 5, 6, 10] --> 2 times\n",
    "# [7, 8, 8, 9] --> 1 time\n",
    "t5_unique_elements, t5_counts = torch.unique(input=t4, dim=0, return_counts=True)\n",
    "print(f\"shape of t5_unique_elements: {t5_unique_elements.shape}\")\n",
    "print(f\"t5_unique_elements: {t5_unique_elements}\")\n",
    "print(\"-\" * 150)\n",
    "print(f\"shape of t5_counts: {t5_counts.shape}\")\n",
    "print(f\"t5_counts: {t5_counts}\")"
   ]
  },
  {
   "cell_type": "code",
   "execution_count": null,
   "metadata": {},
   "outputs": [
    {
     "name": "stdout",
     "output_type": "stream",
     "text": [
      "shape of t6_unique_elements: torch.Size([5, 4])\n",
      "t6_unique_elements: tensor([[ 1,  2,  2,  3],\n",
      "        [ 4,  5, 10,  6],\n",
      "        [ 1,  2,  2,  3],\n",
      "        [ 7,  8,  9,  8],\n",
      "        [ 4,  5, 10,  6]], dtype=torch.int32)\n",
      "------------------------------------------------------------------------------------------------------------------------------------------------------\n",
      "shape of t6_counts: torch.Size([4])\n",
      "t6_counts: tensor([1, 1, 1, 1])\n"
     ]
    }
   ],
   "source": [
    "# NEED TO UNDERSTAND HOW THE OUTPUT IS GETTING GENERATED HERE.\n",
    "t6_unique_elements, t6_counts = torch.unique(input=t4, dim=1, return_counts=True)\n",
    "print(f\"shape of t6_unique_elements: {t6_unique_elements.shape}\")\n",
    "print(f\"t6_unique_elements: {t6_unique_elements}\")\n",
    "print(\"-\" * 150)\n",
    "print(f\"shape of t6_counts: {t6_counts.shape}\")\n",
    "print(f\"t6_counts: {t6_counts}\")"
   ]
  },
  {
   "cell_type": "markdown",
   "metadata": {},
   "source": [
    "## [torch.unbind](https://pytorch.org/docs/stable/generated/torch.unbind.html)"
   ]
  },
  {
   "cell_type": "code",
   "execution_count": 22,
   "metadata": {},
   "outputs": [],
   "source": [
    "# This extracts the individual tensors from the given tensor along the specified dimension."
   ]
  },
  {
   "cell_type": "code",
   "execution_count": 26,
   "metadata": {},
   "outputs": [
    {
     "name": "stdout",
     "output_type": "stream",
     "text": [
      "shape of t7: torch.Size([4, 5])\n",
      "t7: tensor([[ 0,  1,  2,  3,  4],\n",
      "        [ 5,  6,  7,  8,  9],\n",
      "        [10, 11, 12, 13, 14],\n",
      "        [15, 16, 17, 18, 19]], dtype=torch.int32)\n"
     ]
    }
   ],
   "source": [
    "t7 = torch.arange(start=0, end=20, dtype=torch.int32).reshape(shape=(4, 5))\n",
    "print(f\"shape of t7: {t7.shape}\")\n",
    "print(f\"t7: {t7}\")"
   ]
  },
  {
   "cell_type": "code",
   "execution_count": 28,
   "metadata": {},
   "outputs": [
    {
     "name": "stdout",
     "output_type": "stream",
     "text": [
      "type of t8: <class 'tuple'>\n",
      "t8: (tensor([0, 1, 2, 3, 4], dtype=torch.int32), tensor([5, 6, 7, 8, 9], dtype=torch.int32), tensor([10, 11, 12, 13, 14], dtype=torch.int32), tensor([15, 16, 17, 18, 19], dtype=torch.int32))\n"
     ]
    }
   ],
   "source": [
    "t8_groups = torch.unbind(input=t7, dim=0)\n",
    "print(f\"type of t8: {type(t8_groups)}\")\n",
    "print(f\"t8: {t8_groups}\")"
   ]
  },
  {
   "cell_type": "code",
   "execution_count": null,
   "metadata": {},
   "outputs": [],
   "source": []
  }
 ],
 "metadata": {
  "kernelspec": {
   "display_name": ".pytorch_venv",
   "language": "python",
   "name": "python3"
  },
  "language_info": {
   "codemirror_mode": {
    "name": "ipython",
    "version": 3
   },
   "file_extension": ".py",
   "mimetype": "text/x-python",
   "name": "python",
   "nbconvert_exporter": "python",
   "pygments_lexer": "ipython3",
   "version": "3.10.12"
  }
 },
 "nbformat": 4,
 "nbformat_minor": 2
}
