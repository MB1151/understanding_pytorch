{
 "cells": [
  {
   "cell_type": "code",
   "execution_count": 1,
   "metadata": {},
   "outputs": [],
   "source": [
    "# In this notebook, you learn:\n",
    "#\n",
    "# What tensor.mean() does?\n",
    "# What tensor.topk() does?"
   ]
  },
  {
   "cell_type": "code",
   "execution_count": 2,
   "metadata": {},
   "outputs": [],
   "source": [
    "import torch"
   ]
  },
  {
   "cell_type": "markdown",
   "metadata": {},
   "source": [
    "## [torch.tensor.mean](https://pytorch.org/docs/stable/generated/torch.mean.html#torch.mean)"
   ]
  },
  {
   "cell_type": "code",
   "execution_count": 2,
   "metadata": {},
   "outputs": [],
   "source": [
    "# Lets forget about 'keepdim' parameter for now.\n",
    "# In general, the mean reduces the dimension of the original tensor by 1.\n",
    "# If you calculate the mean along the dimension 'd', then that dimension ('d') is collapsed in the result.\n",
    "# The 'keepdim' parameter is just to maintain the original tensor shape for the same mean calculation.\n",
    "# In general, if the mean is being calculated along dimension 'd', you traverse 'd' levels into the tensor\n",
    "# to obtain groups of tensors (or numbers) along dimension 'd'. We then collapse each group by calculating \n",
    "# the means for each group."
   ]
  },
  {
   "cell_type": "code",
   "execution_count": 5,
   "metadata": {},
   "outputs": [
    {
     "name": "stdout",
     "output_type": "stream",
     "text": [
      "tensor([1., 2., 3., 4.]) torch.Size([4])\n"
     ]
    }
   ],
   "source": [
    "t1 = torch.tensor(data=[1, 2, 3, 4], dtype=torch.float)\n",
    "print(t1, t1.shape)"
   ]
  },
  {
   "cell_type": "code",
   "execution_count": 6,
   "metadata": {},
   "outputs": [
    {
     "name": "stdout",
     "output_type": "stream",
     "text": [
      "tensor([2.5000]) torch.Size([1])\n"
     ]
    }
   ],
   "source": [
    "# (1 + 2 + 3 + 4) / 4 = 2.5\n",
    "t2 = t1.mean(dim=0, keepdim=True)\n",
    "print(t2, t2.shape)"
   ]
  },
  {
   "cell_type": "code",
   "execution_count": 7,
   "metadata": {},
   "outputs": [
    {
     "name": "stdout",
     "output_type": "stream",
     "text": [
      "tensor([[1., 2., 3.],\n",
      "        [4., 5., 6.]]) torch.Size([2, 3])\n"
     ]
    }
   ],
   "source": [
    "t3 = torch.tensor(data=[[1, 2, 3], [4, 5, 6]], dtype=torch.float)\n",
    "print(t3, t3.shape)"
   ]
  },
  {
   "cell_type": "code",
   "execution_count": 8,
   "metadata": {},
   "outputs": [
    {
     "name": "stdout",
     "output_type": "stream",
     "text": [
      "tensor([[2.5000, 3.5000, 4.5000]]) torch.Size([1, 3])\n"
     ]
    }
   ],
   "source": [
    "# (1 + 4) / 2 = 2.5 --> column 0\n",
    "# (2 + 5) / 2 = 3.5 --> column 1\n",
    "# (3 + 6) / 2 = 4.5 --> column 2\n",
    "t4 = t3.mean(dim=0, keepdim=True)\n",
    "print(t4, t4.shape)"
   ]
  },
  {
   "cell_type": "code",
   "execution_count": 9,
   "metadata": {},
   "outputs": [
    {
     "name": "stdout",
     "output_type": "stream",
     "text": [
      "tensor([[2.],\n",
      "        [5.]]) torch.Size([2, 1])\n"
     ]
    }
   ],
   "source": [
    "# (1 + 2 + 3) / 3 = 2 --> row 0\n",
    "# (4 + 5 + 6) / 3 = 5 --> row 1\n",
    "t5 = t3.mean(dim=1, keepdim=True)\n",
    "print(t5, t5.shape)"
   ]
  },
  {
   "cell_type": "code",
   "execution_count": 10,
   "metadata": {},
   "outputs": [
    {
     "name": "stdout",
     "output_type": "stream",
     "text": [
      "tensor(3.5000) torch.Size([])\n"
     ]
    }
   ],
   "source": [
    "# Calculates the mean of all the elements in the tensor.\n",
    "# (1 + 2 + 3 + 4 + 5 + 6) / 6 = 3.5\n",
    "t5_5 = t3.mean()\n",
    "print(t5_5, t5_5.shape)"
   ]
  },
  {
   "cell_type": "code",
   "execution_count": 11,
   "metadata": {},
   "outputs": [
    {
     "name": "stdout",
     "output_type": "stream",
     "text": [
      "tensor([[[ 1.,  2.,  3.],\n",
      "         [ 4.,  5.,  6.]],\n",
      "\n",
      "        [[ 7.,  8.,  9.],\n",
      "         [10., 11., 12.]]]) torch.Size([2, 2, 3])\n"
     ]
    }
   ],
   "source": [
    "t6 = torch.tensor(data=[[[1, 2, 3], [4, 5, 6]], [[7, 8, 9], [10, 11, 12]]], dtype=torch.float)\n",
    "print(t6, t6.shape)"
   ]
  },
  {
   "cell_type": "code",
   "execution_count": 12,
   "metadata": {},
   "outputs": [
    {
     "name": "stdout",
     "output_type": "stream",
     "text": [
      "tensor([[[4., 5., 6.],\n",
      "         [7., 8., 9.]]]) torch.Size([1, 2, 3])\n"
     ]
    }
   ],
   "source": [
    "# (1 + 7) / 2 = 4\n",
    "# (2 + 8) / 2 = 5\n",
    "# (3 + 9) / 2 = 6\n",
    "#\n",
    "# (4 + 10) / 2 = 7\n",
    "# (5 + 11) / 2 = 8\n",
    "# (6 + 12) / 2 = 9\n",
    "# Calculating the mean by traversing over the elements into the page (dimension 0).\n",
    "t7 = t6.mean(dim=0, keepdim=True)\n",
    "print(t7, t7.shape)"
   ]
  },
  {
   "cell_type": "code",
   "execution_count": 13,
   "metadata": {},
   "outputs": [
    {
     "name": "stdout",
     "output_type": "stream",
     "text": [
      "tensor([[[ 2.5000,  3.5000,  4.5000]],\n",
      "\n",
      "        [[ 8.5000,  9.5000, 10.5000]]]) torch.Size([2, 1, 3])\n"
     ]
    }
   ],
   "source": [
    "# Calculates mean over each column in each 2D tensor (groups of tensors you obtain by \n",
    "# traversing in dimension 1).\n",
    "#\n",
    "# (1 + 4) / 2 = 2.5\n",
    "# (2 + 5) / 2 = 3.5\n",
    "# (3 + 6) / 2 = 4.5\n",
    "#\n",
    "# (7 + 10) / 2 = 8.5\n",
    "# (8 + 11) / 2 = 9.5\n",
    "# (9 + 12) / 2 = 10.5\n",
    "t8 = t6.mean(dim=1, keepdim=True)\n",
    "print(t8, t8.shape)"
   ]
  },
  {
   "cell_type": "code",
   "execution_count": 14,
   "metadata": {},
   "outputs": [
    {
     "name": "stdout",
     "output_type": "stream",
     "text": [
      "tensor([[[ 2.],\n",
      "         [ 5.]],\n",
      "\n",
      "        [[ 8.],\n",
      "         [11.]]]) torch.Size([2, 2, 1])\n"
     ]
    }
   ],
   "source": [
    "# Calculates the mean over each row in each 1D tensor (tensors you obtain by traversion in dimension 2).\n",
    "#\n",
    "# (1 + 2 + 3) / 3 = 2\n",
    "# (4 + 5 + 6) / 3 = 5\n",
    "#\n",
    "# (7 + 8 + 9) / 3 = 8\n",
    "# (10 + 11 + 12) / 3 = 11\n",
    "t9 = t6.mean(dim=2, keepdim=True)\n",
    "print(t9, t9.shape)"
   ]
  },
  {
   "cell_type": "code",
   "execution_count": 15,
   "metadata": {},
   "outputs": [
    {
     "name": "stdout",
     "output_type": "stream",
     "text": [
      "tensor(6.5000) torch.Size([])\n"
     ]
    }
   ],
   "source": [
    "# Calculates the mean over all the elements in the tensor.\n",
    "#\n",
    "# sigma([1, 12]) / 12 = 6.5\n",
    "t10 = t6.mean()\n",
    "print(t10, t10.shape)"
   ]
  },
  {
   "cell_type": "code",
   "execution_count": 16,
   "metadata": {},
   "outputs": [
    {
     "name": "stdout",
     "output_type": "stream",
     "text": [
      "tensor([[[[ 1.,  2.],\n",
      "          [ 3.,  4.]],\n",
      "\n",
      "         [[ 5.,  6.],\n",
      "          [ 7.,  8.]]],\n",
      "\n",
      "\n",
      "        [[[ 9., 10.],\n",
      "          [11., 12.]],\n",
      "\n",
      "         [[13., 14.],\n",
      "          [15., 16.]]]]) torch.Size([2, 2, 2, 2])\n"
     ]
    }
   ],
   "source": [
    "t11 = torch.tensor(data=[[[[1, 2], [3, 4]], [[5, 6], [7, 8]]], [[[9, 10], [11, 12]], [[13, 14], [15, 16]]]], dtype=torch.float)\n",
    "print(t11, t11.shape)"
   ]
  },
  {
   "cell_type": "code",
   "execution_count": 17,
   "metadata": {},
   "outputs": [
    {
     "name": "stdout",
     "output_type": "stream",
     "text": [
      "tensor([[[[ 5.,  6.],\n",
      "          [ 7.,  8.]],\n",
      "\n",
      "         [[ 9., 10.],\n",
      "          [11., 12.]]]]) torch.Size([1, 2, 2, 2])\n"
     ]
    }
   ],
   "source": [
    "# We get 3D tensors as we traverse in dimension 0. Starting with each element, traverse to the \n",
    "# corresponding element in the all the 3D tensors and calculate the mean of all these elements.\n",
    "# Example would be to start from (1, 1, 1, 1) then go to (2, 1, 1, 1).\n",
    "# t11[1][1][1][1] = 1, t11[2][1][1][1] = 9. We only have 2 3D tensors. So, the mean is (1 + 9) / 2 = 5\n",
    "# t11[1][1][1][2] = 2, t11[2][1][1][2] = 10. So, the mean in this case is (2 + 10) / 2 = 6\n",
    "#  \n",
    "# (1 + 9) / 2 = 5\n",
    "# (2 + 10) / 2 = 6\n",
    "# (3 + 11) / 2 = 7\n",
    "# (4 + 12) / 2 = 8\n",
    "# (5 + 13) / 2 = 9\n",
    "# (6 + 14) / 2 = 10\n",
    "# (7 + 15) / 2 = 11\n",
    "# (8 + 16) / 2 = 12\n",
    "t12 = t11.mean(dim=0, keepdim=True)\n",
    "print(t12, t12.shape)"
   ]
  },
  {
   "cell_type": "code",
   "execution_count": 18,
   "metadata": {},
   "outputs": [
    {
     "name": "stdout",
     "output_type": "stream",
     "text": [
      "tensor([[[[ 3.,  4.],\n",
      "          [ 5.,  6.]]],\n",
      "\n",
      "\n",
      "        [[[11., 12.],\n",
      "          [13., 14.]]]]) torch.Size([2, 1, 2, 2])\n"
     ]
    }
   ],
   "source": [
    "# We get groups of 2D tensors as we traverse in dimension 1. \n",
    "# In each group of 2D tensors, we collapse the group to get a single 2D tensor.\n",
    "#\n",
    "# The groups of 2D tensors are:\n",
    "# group1 --> [[1, 2], [3, 4]] and [[5, 6], [7, 8]]\n",
    "# group2 --> [[9, 10], [11, 12]] and [[13, 14], [15, 16]]\n",
    "#\n",
    "# Collapse 2D tensors in group 1 into a single 2D tensor by calculating the mean. Similarly in group 2.\n",
    "# \n",
    "# group 1 means:\n",
    "# (1 + 5) / 2 = 3\n",
    "# (2 + 6) / 2 = 4\n",
    "# (3 + 7) / 2 = 5\n",
    "# (4 + 8) / 2 = 6\n",
    "#\n",
    "# group 2 means:\n",
    "# (9 + 13) / 2 = 11\n",
    "# (10 + 14) / 2 = 12\n",
    "# (11 + 15) / 2 = 13\n",
    "# (12 + 16) / 2 = 14\n",
    "t13 = t11.mean(dim=1, keepdim=True)\n",
    "print(t13, t13.shape)"
   ]
  },
  {
   "cell_type": "code",
   "execution_count": 20,
   "metadata": {},
   "outputs": [
    {
     "name": "stdout",
     "output_type": "stream",
     "text": [
      "tensor([[[[ 2.,  3.]],\n",
      "\n",
      "         [[ 6.,  7.]]],\n",
      "\n",
      "\n",
      "        [[[10., 11.]],\n",
      "\n",
      "         [[14., 15.]]]]) torch.Size([2, 2, 1, 2])\n"
     ]
    }
   ],
   "source": [
    "# We get groups of 1D tensors as we traverse in dimension 2.\n",
    "# In each group of 1D tensors, we collapse the group to get a single 1D tensor.\n",
    "#\n",
    "# The groups of 1D tensors are:\n",
    "# group1 --> [1, 2] and [3, 4]\n",
    "# group2 --> [5, 6] and [7, 8]\n",
    "# group3 --> [9, 10] and [11, 12]\n",
    "# group4 --> [13, 14] and [15, 16]\n",
    "#\n",
    "# Collapse 1D tensors in each group into a single 1D tensor by calculating the means.\n",
    "#\n",
    "# group 1 means:\n",
    "# (1 + 3) / 2 = 2\n",
    "# (2 + 4) / 2 = 3\n",
    "#\n",
    "# group2 means:\n",
    "# (5 + 7) / 2 = 6\n",
    "# (6 + 8) / 2 = 7\n",
    "#\n",
    "# group3 means:\n",
    "# (9 + 11) / 2 = 10\n",
    "# (10 + 12) / 2 = 11\n",
    "# \n",
    "# group4 means:\n",
    "# (13 + 15) / 2 = 14\n",
    "# (14 + 16) / 2 = 15 \n",
    "t14 = t11.mean(dim=2, keepdim=True)\n",
    "print(t14, t14.shape)"
   ]
  },
  {
   "cell_type": "code",
   "execution_count": 22,
   "metadata": {},
   "outputs": [
    {
     "name": "stdout",
     "output_type": "stream",
     "text": [
      "tensor([[[[ 1.5000],\n",
      "          [ 3.5000]],\n",
      "\n",
      "         [[ 5.5000],\n",
      "          [ 7.5000]]],\n",
      "\n",
      "\n",
      "        [[[ 9.5000],\n",
      "          [11.5000]],\n",
      "\n",
      "         [[13.5000],\n",
      "          [15.5000]]]]) torch.Size([2, 2, 2, 1])\n"
     ]
    }
   ],
   "source": [
    "# We get groups of individual numbers as we traverse in dimension 3.\n",
    "# In each group of numbers, we collapse the numbers to get a single number (mean of the numbers in the group).\n",
    "#\n",
    "# The groups of numbers are:\n",
    "# group1 --> 1, 2\n",
    "# group2 --> 3, 4\n",
    "# group3 --> 5, 6\n",
    "# group4 --> 7, 8\n",
    "# group5 --> 9, 10\n",
    "# group6 --> 11, 12\n",
    "# group7 --> 13, 14\n",
    "# group8 --> 15, 16\n",
    "#\n",
    "# group 1 mean:\n",
    "# (1 + 2) / 2 = 1.5\n",
    "# \n",
    "# group 2 mean:\n",
    "# (3 + 4) / 2 = 3.5\n",
    "#\n",
    "# group 3 mean:\n",
    "# (5 + 6) / 2 = 5.5\n",
    "# \n",
    "# group 4 mean:\n",
    "# (7 + 8) / 2 = 7.5\n",
    "#\n",
    "# group 5 mean:\n",
    "# (9 + 10) / 2 = 9.5\n",
    "# \n",
    "# group 6 mean:\n",
    "# (11 + 12) / 2 = 11.5\n",
    "#\n",
    "# group 7 mean:\n",
    "# (13 + 14) / 2 = 13.5\n",
    "# \n",
    "# group 8 mean:\n",
    "# (15 + 16) / 2 = 15.5\n",
    "t15 = t11.mean(dim=3, keepdim=True)\n",
    "print(t15, t15.shape)"
   ]
  },
  {
   "cell_type": "markdown",
   "metadata": {},
   "source": [
    "## [torch.topk](https://pytorch.org/docs/stable/generated/torch.topk.html#torch.topk)"
   ]
  },
  {
   "cell_type": "code",
   "execution_count": 7,
   "metadata": {},
   "outputs": [
    {
     "name": "stdout",
     "output_type": "stream",
     "text": [
      "shape of t16: torch.Size([10, 10])\n",
      "t16: tensor([[ 0.4233,  0.8199,  0.5050, -1.0926, -0.4212,  0.5178,  0.3874, -1.0537,\n",
      "          0.8778, -0.6597],\n",
      "        [ 0.7666,  1.0237,  1.1167, -1.2751, -0.3338, -0.3952, -0.9140, -1.2936,\n",
      "         -0.0939,  0.7553],\n",
      "        [ 0.6098,  1.6296, -0.7219, -0.4328, -0.6557, -0.2463, -0.8440,  1.3226,\n",
      "         -1.8629,  0.9046],\n",
      "        [-0.5263,  0.3437,  0.9476,  0.2662, -0.2333,  1.2251,  0.1595, -0.2546,\n",
      "          0.6220,  0.7127],\n",
      "        [-1.3790, -2.2478, -1.6606,  0.9969, -0.3939,  0.2530,  1.9350,  1.9100,\n",
      "         -0.3107, -0.4832],\n",
      "        [ 0.1390,  0.5505,  1.5105, -0.5408, -0.6709, -0.3560, -0.5769, -0.1849,\n",
      "         -1.4690, -0.6870],\n",
      "        [ 1.9623,  0.8789, -0.9080,  0.0173,  0.2558,  0.5635, -1.8750, -1.2360,\n",
      "          0.2301, -0.4862],\n",
      "        [ 0.4545, -0.1014,  2.1530,  0.8208, -1.5959, -0.3814, -1.1091, -0.9797,\n",
      "         -0.1718, -0.2841],\n",
      "        [-1.0450, -1.6378,  0.2858,  0.9467, -0.3922,  1.1334,  0.6068,  0.6772,\n",
      "         -0.7400,  0.7691],\n",
      "        [ 0.2129,  0.4411, -0.3859,  0.2579,  1.6317, -0.8091, -0.5999, -0.4474,\n",
      "         -0.9551,  1.1379]])\n"
     ]
    }
   ],
   "source": [
    "# Creating a random tensor to demonstrate the topk() function.\n",
    "t16 = torch.randn(size=(10, 10))\n",
    "print(f\"shape of t16: {t16.shape}\")\n",
    "print(f\"t16: {t16}\")"
   ]
  },
  {
   "cell_type": "code",
   "execution_count": null,
   "metadata": {},
   "outputs": [
    {
     "name": "stdout",
     "output_type": "stream",
     "text": [
      "shape of t17_top_values: torch.Size([10, 3])\n",
      "t17_top_values: tensor([[0.8778, 0.8199, 0.5178],\n",
      "        [1.1167, 1.0237, 0.7666],\n",
      "        [1.6296, 1.3226, 0.9046],\n",
      "        [1.2251, 0.9476, 0.7127],\n",
      "        [1.9350, 1.9100, 0.9969],\n",
      "        [1.5105, 0.5505, 0.1390],\n",
      "        [1.9623, 0.8789, 0.5635],\n",
      "        [2.1530, 0.8208, 0.4545],\n",
      "        [1.1334, 0.9467, 0.7691],\n",
      "        [1.6317, 1.1379, 0.4411]])\n",
      "------------------------------------------------------------------------------------------------------------------------------------------------------\n",
      "shape of t17_top_indices: torch.Size([10, 3])\n",
      "t17_top_indices: tensor([[8, 1, 5],\n",
      "        [2, 1, 0],\n",
      "        [1, 7, 9],\n",
      "        [5, 2, 9],\n",
      "        [6, 7, 3],\n",
      "        [2, 1, 0],\n",
      "        [0, 1, 5],\n",
      "        [2, 3, 0],\n",
      "        [5, 3, 9],\n",
      "        [4, 9, 1]])\n",
      "------------------------------------------------------------------------------------------------------------------------------------------------------\n"
     ]
    }
   ],
   "source": [
    "# This returns the top k (3 values here) values and the corresponding indices in the tensors present along \n",
    "# the last dimension. For the 0th tensor i.e., t16[0]\n",
    "# The 3 largest values and their corresponding indices are [(0.8778, 8), (0.8199, 1), (0.5178, 5)]\n",
    "t17_top_values, t17_top_indices = t16.topk(k=3, dim=-1, largest=True)\n",
    "print(f\"shape of t17_top_values: {t17_top_values.shape}\")\n",
    "print(f\"t17_top_values: {t17_top_values}\")\n",
    "print(\"-\" * 150)\n",
    "print(f\"shape of t17_top_indices: {t17_top_indices.shape}\")\n",
    "print(f\"t17_top_indices: {t17_top_indices}\")\n",
    "print(\"-\" * 150)"
   ]
  },
  {
   "cell_type": "code",
   "execution_count": null,
   "metadata": {},
   "outputs": [],
   "source": []
  }
 ],
 "metadata": {
  "kernelspec": {
   "display_name": ".pytorch_venv",
   "language": "python",
   "name": "python3"
  },
  "language_info": {
   "codemirror_mode": {
    "name": "ipython",
    "version": 3
   },
   "file_extension": ".py",
   "mimetype": "text/x-python",
   "name": "python",
   "nbconvert_exporter": "python",
   "pygments_lexer": "ipython3",
   "version": "3.10.12"
  }
 },
 "nbformat": 4,
 "nbformat_minor": 2
}
