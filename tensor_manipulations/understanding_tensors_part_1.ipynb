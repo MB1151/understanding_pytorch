{
 "cells": [
  {
   "cell_type": "code",
   "execution_count": null,
   "metadata": {},
   "outputs": [],
   "source": [
    "# In this notebook, you learn:\n",
    "#\n",
    "# 1) What is a tensor?\n",
    "# 2) How to create a tensor in pytorch?\n",
    "# 3) What is the shape of 1D tensor?\n",
    "# 4) What is a dimension in a tensor?\n",
    "# 5) How to imagine tensors of higher dimensions (>=4)?\n",
    "#"
   ]
  },
  {
   "cell_type": "code",
   "execution_count": 2,
   "metadata": {},
   "outputs": [],
   "source": [
    "import torch"
   ]
  },
  {
   "cell_type": "code",
   "execution_count": 2,
   "metadata": {},
   "outputs": [],
   "source": [
    "# Understanding tensors works if you imagine 1 dimensional tensors as column vectors (or row vectors), \n",
    "# 2 dimensions tensors as matrices and 3 dimensional tensors as boxes. However, it becomes impossible \n",
    "# to understand different operations on tensors starting from 4 dimensions and above with this view.\n",
    "\n",
    "# It is very helpful to think of a tensor as a container of smaller tensors. This view helps when we \n",
    "# deal with tensors of higher dimensions. "
   ]
  },
  {
   "cell_type": "code",
   "execution_count": 4,
   "metadata": {},
   "outputs": [
    {
     "name": "stdout",
     "output_type": "stream",
     "text": [
      "tensor([[1, 2],\n",
      "        [3, 4]]) torch.Size([2, 2])\n"
     ]
    }
   ],
   "source": [
    "# More about pytorch tensors --> https://pytorch.org/docs/stable/tensors.html#torch-tensor\n",
    "# Creates a tensor with the given data.\n",
    "t0 = torch.tensor(data=[[1, 2], [3, 4]])\n",
    "print(t0, t0.shape)"
   ]
  },
  {
   "cell_type": "code",
   "execution_count": 4,
   "metadata": {},
   "outputs": [
    {
     "name": "stdout",
     "output_type": "stream",
     "text": [
      "tensor([[-0.7925, -0.5879,  0.1559,  0.0230],\n",
      "        [ 0.6022,  2.0955,  1.6379, -0.2011],\n",
      "        [ 0.2597,  0.7060, -1.3425, -1.3965]], dtype=torch.float64) torch.Size([3, 4])\n"
     ]
    }
   ],
   "source": [
    "# https://pytorch.org/docs/stable/generated/torch.randn.html#torch.randn\n",
    "# randn creates a tensor with the given size and fills the numbers randomly\n",
    "# taken from a Normal distribution with mean 0 and variance 1.\n",
    "t1 = torch.randn(size=(3, 4), dtype=float)\n",
    "print(t1, t1.shape)\n"
   ]
  },
  {
   "cell_type": "code",
   "execution_count": 13,
   "metadata": {},
   "outputs": [
    {
     "name": "stdout",
     "output_type": "stream",
     "text": [
      "tensor([ 0.0373,  0.8389, -1.1035]) torch.Size([3]) \n",
      "\n",
      "tensor([[ 0.0923, -0.4707,  0.2678, -1.6898],\n",
      "        [-0.0154,  0.3476,  0.9491, -0.1419],\n",
      "        [-1.0873, -1.1731, -0.1541,  1.3505]]) torch.Size([3, 4]) \n",
      "\n",
      "tensor([ 1.1903,  1.5685,  0.9762, -1.6723]) torch.Size([4]) \n",
      "\n",
      "tensor([[ 0.8351, -0.3378, -0.3646],\n",
      "        [ 1.5279, -2.2954, -0.7268]]) torch.Size([2, 3]) \n",
      "\n",
      "tensor([ 0.1501, -1.0666]) torch.Size([2])\n"
     ]
    }
   ],
   "source": [
    "# 1D tensor here is neither a column vector (3, 1) nor a row vector (1, 3) in matrix world.\n",
    "# It behaves accordingly (either a column or a row vector) depending on the situation the tensor is used in.\n",
    "t2 = torch.randn(size=(3,))\n",
    "print(t2, t2.shape, \"\\n\")\n",
    "t3 = torch.randn(size=(3, 4))\n",
    "print(t3, t3.shape, \"\\n\")\n",
    "# The 1D tensor t2 here behaves as a row vector (1, 3) in the below matrix multiplication.\n",
    "t4 = torch.matmul(input=t2, other=t3)\n",
    "print(t4, t4.shape, \"\\n\")\n",
    "t5 = torch.randn(size=(2, 3))\n",
    "print(t5, t5.shape, \"\\n\")\n",
    "# The 1D tensor t2 here behaves as a column vector (3, 1) in the below matrix multiplication.\n",
    "t6 = torch.matmul(input=t5, other=t2)\n",
    "print(t6, t6.shape)"
   ]
  },
  {
   "cell_type": "code",
   "execution_count": 1,
   "metadata": {},
   "outputs": [],
   "source": [
    "# Read this blog (https://towardsdatascience.com/understanding-dimensions-in-pytorch-6edf9972d3be) to understand \n",
    "# an elaborate explanation (and visualization for 1D, 2D and 3D tensors) of dimensions in pytorch tensors.\n",
    "# \n",
    "# To define 'dimension' in simple words, the amount of nesting in a tensor is the number of dimensions of that tensor.\n",
    "#\n",
    "# [1, 2, 3] is a 1D tensor. It has only 1 level of nesting.\n",
    "#\n",
    "# [[1, 2], [3, 4]] is a 2D tensor. It has 2 levels of nesting i.e., to reach the inner most elements, we need to\n",
    "#       go two levels inside. We first go 1 level and find the tensors [1, 2] and [3, 4]. We then go one more \n",
    "#       level into [1, 2] to get the inner most elements 1, 2. We traversed 2 levels in total which means this \n",
    "#       tensor has 3 dimensions.\n",
    "#\n",
    "# [[[1, 2], [3, 4]], [[5, 6], [7, 8]]] is a 3D tensor. It has 3 levels of nesting i.e., to reach the inner most\n",
    "#       elements, we need to go three levels inside. We first go 1 level and find the tensors [[1, 2], [3, 4]] and\n",
    "#       [[5, 6], [7, 8]]. We then go one more level into [[1, 2], [3, 4]] to get the tensors [1, 2] and [3, 4].\n",
    "#       We now have to go inside one more level into [1, 2] to get the elements 1, 2. We traversed 3 levels in\n",
    "#       total which means this tensor has 3 dimensions.\n",
    "#\n",
    "# Tensors of higher dimensions (>=4) behave in the same way as explained above.\n",
    "#\n",
    "# Now, what does it means to traverse along dimension 0? It means we go 1 level inside the tensor and iterate on\n",
    "# on all the sub-tensors at level 0. For the above 3D tensor, as we traverse along dimension 0, we get the 2D \n",
    "# tensors [[1, 2], [3, 4]] and [[5, 6], [7, 8]].\n",
    "#\n",
    "# Now, what does it means to traverse along dimension 1? It means we go 2 levels inside the tensor and iterate on\n",
    "# on all the sub-tensors at level 1. For the above 3D tensor, as we traverse along dimension 1, we get the 1D \n",
    "# tensors [1, 2], [3, 4] and [5, 6], [7, 8].\n",
    "#\n",
    "# Now, what does it means to traverse along dimension 2? It means we go 3 levels inside the tensor and iterate on\n",
    "# on all the sub-tensors at level 3. For the above 3D tensor, as we traverse along dimension 3, we get the \n",
    "# individual numbers 1, 2, 3, 4, 5, 6, 7, and 8."
   ]
  },
  {
   "cell_type": "code",
   "execution_count": 14,
   "metadata": {},
   "outputs": [
    {
     "name": "stdout",
     "output_type": "stream",
     "text": [
      "tensor([0.9811, 0.9449, 0.0295]) torch.Size([3])\n"
     ]
    }
   ],
   "source": [
    "# Like described above, 1D tensor 't7' here is just a column vector (or a row vector) in matrix world.\n",
    "# Another way to understand this is that tensor 't7' is a container of 3 numbers.\n",
    "t7 = torch.rand(size=(3,))\n",
    "print(t7, t7.shape)"
   ]
  },
  {
   "cell_type": "code",
   "execution_count": 15,
   "metadata": {},
   "outputs": [
    {
     "name": "stdout",
     "output_type": "stream",
     "text": [
      "tensor([[0.9744, 0.1050, 0.6761, 0.3797],\n",
      "        [0.5471, 0.1710, 0.5803, 0.9111],\n",
      "        [0.5072, 0.2644, 0.3765, 0.8085]]) torch.Size([3, 4])\n"
     ]
    }
   ],
   "source": [
    "# This 2D tensor 't7' can be imagined as a matrix of size (3, 4) --> (3 rows, 4 columns).\n",
    "# The other way to understand this is that tensor 't7' is a container that contains 3 tensors of size 4.\n",
    "# Each of these 3 tensors is in turn a container of 4 numbers.\n",
    "t7 = torch.rand(size=(3, 4))\n",
    "print(t7, t7.shape)"
   ]
  },
  {
   "cell_type": "code",
   "execution_count": 16,
   "metadata": {},
   "outputs": [
    {
     "name": "stdout",
     "output_type": "stream",
     "text": [
      "tensor([[[-0.5257,  0.5882, -0.2717,  0.8621],\n",
      "         [-0.2537,  0.1154,  0.6284,  0.2661],\n",
      "         [-1.6145,  0.2757,  1.2777, -0.3756]],\n",
      "\n",
      "        [[ 1.0084, -1.0579, -1.3310,  0.5429],\n",
      "         [ 2.1313, -1.2589,  0.7478,  1.3470],\n",
      "         [-0.4463, -2.0308,  0.6939,  1.4193]]]) torch.Size([2, 3, 4])\n"
     ]
    }
   ],
   "source": [
    "# This 3D tensor 't8' can be imagined as a box that contains 2 '2D' matrices of size (3, 4) --> (3 rows, 4 columns).\n",
    "# The other way to understand this is that tensor 't8' is a container that contains 2 tensors of shape (3, 4).\n",
    "# Each of the 2 tensors of shape (3, 4) is a container that contains 3 tensors of size 4.\n",
    "# Each of the 3 tensors of shape (4,) is a container that contains 4 numbers. \n",
    "t8 = torch.randn(size=(2, 3, 4))\n",
    "print(t8, t8.shape)"
   ]
  },
  {
   "cell_type": "code",
   "execution_count": 17,
   "metadata": {},
   "outputs": [
    {
     "name": "stdout",
     "output_type": "stream",
     "text": [
      "tensor([[[[ 1.4289e+00, -8.6475e-02,  9.3132e-01,  4.6907e-01, -1.1830e-01],\n",
      "          [-8.0709e-01,  9.1207e-01, -1.3065e+00,  3.0724e-01, -5.0689e-02],\n",
      "          [ 1.3328e-01, -5.6798e-01, -3.0746e-01, -6.8094e-02,  3.7155e-01],\n",
      "          [ 4.2010e-02,  1.6397e+00, -1.7436e+00,  1.6225e-01,  4.6821e-02]],\n",
      "\n",
      "         [[-5.5816e-01, -2.6075e+00,  7.8597e-01,  1.2327e+00,  3.2477e-01],\n",
      "          [-3.7903e-01, -1.6894e-01, -1.9478e+00, -1.8175e-01,  1.7054e-01],\n",
      "          [-5.3973e-02,  3.6347e-01,  2.7566e+00, -1.9374e+00,  6.6425e-01],\n",
      "          [-6.6338e-01, -3.6642e-01, -2.1617e+00, -1.0375e+00,  1.0577e-02]],\n",
      "\n",
      "         [[-1.3391e+00, -1.4920e-02,  1.1873e+00,  4.3267e-04,  1.0102e+00],\n",
      "          [-1.5963e+00, -4.5726e-01, -1.1240e+00,  1.1042e+00,  8.7184e-01],\n",
      "          [ 2.0592e-01, -1.4636e-01, -1.1529e+00, -1.8921e+00, -4.7401e-01],\n",
      "          [-1.2040e-01, -7.1811e-01, -3.5553e-01,  6.2429e-01, -1.2359e+00]]],\n",
      "\n",
      "\n",
      "        [[[ 5.9240e-01, -3.3262e-01, -5.3491e-01, -3.5379e-01,  2.5075e+00],\n",
      "          [ 4.8886e-01, -2.5746e-01, -1.4778e+00,  1.4468e+00,  1.8310e+00],\n",
      "          [-1.4776e+00, -3.3545e-01,  3.4513e-01, -5.5736e-01,  2.2105e+00],\n",
      "          [ 1.0967e+00,  1.7924e+00,  3.4374e-01, -4.5646e-01,  9.3161e-02]],\n",
      "\n",
      "         [[-1.7995e-01, -3.2415e-01,  5.7276e-01,  2.4499e-01,  5.5066e-01],\n",
      "          [-8.9271e-02, -9.9005e-02, -2.0718e+00, -1.1316e-01, -4.4172e-01],\n",
      "          [-4.1380e-01,  5.3170e-04, -1.8402e+00, -5.4817e-01, -5.7464e-02],\n",
      "          [-3.2971e-01, -4.8778e-01, -1.7229e+00, -9.9362e-01,  2.2174e+00]],\n",
      "\n",
      "         [[ 1.5927e+00,  4.1338e-01,  9.9946e-01, -9.2265e-01, -4.8537e-01],\n",
      "          [-1.7610e+00, -1.1460e+00,  1.3867e+00, -1.1541e+00,  1.3171e+00],\n",
      "          [ 2.1093e-01, -1.1415e+00,  1.0752e+00, -5.2415e-01, -1.7288e+00],\n",
      "          [-4.2938e-01, -1.9631e-01,  1.9410e+00,  1.4494e+00, -5.3674e-01]]]]) torch.Size([2, 3, 4, 5])\n"
     ]
    }
   ],
   "source": [
    "# At this point, it is impossible to imagine a shape for the '4D' tensor 't9' below.\n",
    "# The only intuitive way to understand this is considering 't9' as a container of 2 '3D' tensors of shape (3, 4, 5).\n",
    "# Each of the 2 tensors of shape (3, 4, 5) is a container that contains 3 tensors of shape (4, 5).\n",
    "# Each of the 3 tensors of shape (4, 5) is a container that contains 4 tensors of shape (5,).\n",
    "# Each of the 4 tensors of shape (5,) is a container that contains 5 numbers.\n",
    "t9 = torch.randn(size=(2, 3, 4, 5))\n",
    "print(t9, t9.shape)"
   ]
  },
  {
   "cell_type": "code",
   "execution_count": 18,
   "metadata": {},
   "outputs": [],
   "source": [
    "# Extend the same container view for tensors of higher dimensions as we did with '4D' tensors 't9' above."
   ]
  }
 ],
 "metadata": {
  "kernelspec": {
   "display_name": ".pytorch_venv",
   "language": "python",
   "name": "python3"
  },
  "language_info": {
   "codemirror_mode": {
    "name": "ipython",
    "version": 3
   },
   "file_extension": ".py",
   "mimetype": "text/x-python",
   "name": "python",
   "nbconvert_exporter": "python",
   "pygments_lexer": "ipython3",
   "version": "3.10.12"
  }
 },
 "nbformat": 4,
 "nbformat_minor": 2
}
