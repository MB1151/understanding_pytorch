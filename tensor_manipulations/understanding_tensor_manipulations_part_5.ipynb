{
 "cells": [
  {
   "cell_type": "code",
   "execution_count": 2,
   "metadata": {},
   "outputs": [],
   "source": [
    "# In this notebook, you learn:\n",
    "# \n",
    "# 1) How torch.zeros works?\n",
    "# 2) How torch.arange works?\n",
    "# 3) How torch.exp works?\n",
    "# 4) How torch.ones works?"
   ]
  },
  {
   "cell_type": "code",
   "execution_count": 3,
   "metadata": {},
   "outputs": [],
   "source": [
    "import torch"
   ]
  },
  {
   "cell_type": "markdown",
   "metadata": {},
   "source": [
    "## [torch.zeros](https://pytorch.org/docs/stable/generated/torch.zeros.html#torch-zeros)"
   ]
  },
  {
   "cell_type": "code",
   "execution_count": 5,
   "metadata": {},
   "outputs": [
    {
     "name": "stdout",
     "output_type": "stream",
     "text": [
      "tensor([[[0., 0., 0., 0.],\n",
      "         [0., 0., 0., 0.],\n",
      "         [0., 0., 0., 0.]],\n",
      "\n",
      "        [[0., 0., 0., 0.],\n",
      "         [0., 0., 0., 0.],\n",
      "         [0., 0., 0., 0.]]])\n",
      "torch.Size([2, 3, 4])\n"
     ]
    }
   ],
   "source": [
    "# Simple function that just created a tensor of all zeros with the given shape.\n",
    "t1 = torch.zeros(size=(2, 3, 4), dtype=torch.float)\n",
    "print(t1)\n",
    "print(t1.shape)"
   ]
  },
  {
   "cell_type": "markdown",
   "metadata": {},
   "source": [
    "## [torch.arange](https://pytorch.org/docs/stable/generated/torch.arange.html#torch-arange)"
   ]
  },
  {
   "cell_type": "code",
   "execution_count": 6,
   "metadata": {},
   "outputs": [
    {
     "name": "stdout",
     "output_type": "stream",
     "text": [
      "tensor([0, 1, 2, 3, 4, 5, 6, 7, 8, 9])\n",
      "torch.Size([10])\n"
     ]
    }
   ],
   "source": [
    "# Creates a 1D tensor that starts from 0 and runs until end (10) with step size of 1.\n",
    "t2 = torch.arange(end=10)\n",
    "print(t2)\n",
    "print(t2.shape)"
   ]
  },
  {
   "cell_type": "code",
   "execution_count": 8,
   "metadata": {},
   "outputs": [
    {
     "name": "stdout",
     "output_type": "stream",
     "text": [
      "tensor([4, 5, 6, 7, 8, 9])\n",
      "torch.Size([6])\n"
     ]
    }
   ],
   "source": [
    "# Creates a 1D tensor that starts from start (4) and runs until end (10) with step size of 1.\n",
    "t3 = torch.arange(start=4, end=10)\n",
    "print(t3)\n",
    "print(t3.shape)"
   ]
  },
  {
   "cell_type": "code",
   "execution_count": 9,
   "metadata": {},
   "outputs": [
    {
     "name": "stdout",
     "output_type": "stream",
     "text": [
      "tensor([ 4,  7, 10])\n",
      "torch.Size([3])\n"
     ]
    }
   ],
   "source": [
    "# Creates a 1D tensor that start from start (4) and runs until end (13) with step size of 3.\n",
    "t4 = torch.arange(start=4, end=13, step=3)\n",
    "print(t4)\n",
    "print(t4.shape)"
   ]
  },
  {
   "cell_type": "markdown",
   "metadata": {},
   "source": [
    "## [torch.exp](https://pytorch.org/docs/stable/generated/torch.exp.html#torch-exp)"
   ]
  },
  {
   "cell_type": "code",
   "execution_count": 10,
   "metadata": {},
   "outputs": [
    {
     "name": "stdout",
     "output_type": "stream",
     "text": [
      "tensor([[[ 0,  1],\n",
      "         [ 2,  3],\n",
      "         [ 4,  5]],\n",
      "\n",
      "        [[ 6,  7],\n",
      "         [ 8,  9],\n",
      "         [10, 11]]])\n",
      "torch.Size([2, 3, 2])\n"
     ]
    }
   ],
   "source": [
    "# Calculates the exponential (e^{tensor_element}) for every element in the tensor and returns the\n",
    "# new tensor\n",
    "t5 = torch.arange(12).reshape(2, 3, 2) \n",
    "print(t5)\n",
    "print(t5.shape)"
   ]
  },
  {
   "cell_type": "code",
   "execution_count": 11,
   "metadata": {},
   "outputs": [
    {
     "name": "stdout",
     "output_type": "stream",
     "text": [
      "tensor([[[1.0000e+00, 2.7183e+00],\n",
      "         [7.3891e+00, 2.0086e+01],\n",
      "         [5.4598e+01, 1.4841e+02]],\n",
      "\n",
      "        [[4.0343e+02, 1.0966e+03],\n",
      "         [2.9810e+03, 8.1031e+03],\n",
      "         [2.2026e+04, 5.9874e+04]]])\n",
      "torch.Size([2, 3, 2])\n"
     ]
    }
   ],
   "source": [
    "t6 = torch.exp(input=t5)\n",
    "print(t6)\n",
    "print(t6.shape)"
   ]
  },
  {
   "cell_type": "markdown",
   "metadata": {},
   "source": [
    "## [torch.ones](https://pytorch.org/docs/stable/generated/torch.ones.html#torch-ones)"
   ]
  },
  {
   "cell_type": "code",
   "execution_count": 6,
   "metadata": {},
   "outputs": [
    {
     "name": "stdout",
     "output_type": "stream",
     "text": [
      "shape:  torch.Size([2, 3, 4])\n",
      "t7:  tensor([[[1, 1, 1, 1],\n",
      "         [1, 1, 1, 1],\n",
      "         [1, 1, 1, 1]],\n",
      "\n",
      "        [[1, 1, 1, 1],\n",
      "         [1, 1, 1, 1],\n",
      "         [1, 1, 1, 1]]])\n"
     ]
    }
   ],
   "source": [
    "# Creates a tensor of all ones with the given shape.\n",
    "t7 = torch.ones(size=(2, 3, 4), dtype=torch.int64)\n",
    "print(\"shape: \", t7.shape)\n",
    "print(\"t7: \", t7)"
   ]
  },
  {
   "cell_type": "code",
   "execution_count": null,
   "metadata": {},
   "outputs": [],
   "source": []
  }
 ],
 "metadata": {
  "kernelspec": {
   "display_name": ".pytorch_venv",
   "language": "python",
   "name": "python3"
  },
  "language_info": {
   "codemirror_mode": {
    "name": "ipython",
    "version": 3
   },
   "file_extension": ".py",
   "mimetype": "text/x-python",
   "name": "python",
   "nbconvert_exporter": "python",
   "pygments_lexer": "ipython3",
   "version": "3.10.12"
  }
 },
 "nbformat": 4,
 "nbformat_minor": 2
}
