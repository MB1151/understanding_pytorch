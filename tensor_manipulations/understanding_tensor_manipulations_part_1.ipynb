{
 "cells": [
  {
   "cell_type": "code",
   "execution_count": 1,
   "metadata": {},
   "outputs": [],
   "source": [
    "# In this notebook, you learn:\n",
    "#\n",
    "# 1) What does torch.unsqueeze do?\n",
    "# 2) What does torch.nn.functional.pad do?"
   ]
  },
  {
   "cell_type": "code",
   "execution_count": 1,
   "metadata": {},
   "outputs": [],
   "source": [
    "import torch"
   ]
  },
  {
   "cell_type": "markdown",
   "metadata": {},
   "source": [
    "## [torch.unsqueeze](https://www.google.com/url?q=https%3A%2F%2Fpytorch.org%2Fdocs%2Fstable%2Fgenerated%2Ftorch.unsqueeze.html)"
   ]
  },
  {
   "cell_type": "code",
   "execution_count": 2,
   "metadata": {},
   "outputs": [],
   "source": [
    "# unsqueeze basically adds a dimension at the given position. Lets think of a tensor as a container of \n",
    "# smaller tensors. If dim = 2 is used with unsqueeze, it means we go inside 2 containers and add a \n",
    "# container for all the tensors after traversing 2 steps i.e., we traverse 0, 1 dimensions and add an \n",
    "# extra dimension to every tensor we encounter after traversing 0, 1 dimensions.    "
   ]
  },
  {
   "cell_type": "code",
   "execution_count": 3,
   "metadata": {},
   "outputs": [
    {
     "name": "stdout",
     "output_type": "stream",
     "text": [
      "shape:  torch.Size([2, 3, 3])\n",
      "t1:  tensor([[[ 1,  2,  3],\n",
      "         [ 4,  5,  6],\n",
      "         [ 7,  8,  9]],\n",
      "\n",
      "        [[10, 11, 12],\n",
      "         [13, 14, 15],\n",
      "         [16, 17, 18]]])\n"
     ]
    }
   ],
   "source": [
    "t1 = torch.tensor(data=[[[1, 2, 3], [4, 5, 6], [7, 8, 9]], [[10, 11, 12], [13, 14, 15], [16, 17, 18]]])\n",
    "print(\"shape: \", t1.shape)\n",
    "print(\"t1: \", t1)"
   ]
  },
  {
   "cell_type": "code",
   "execution_count": 6,
   "metadata": {},
   "outputs": [
    {
     "name": "stdout",
     "output_type": "stream",
     "text": [
      "shape:  torch.Size([1, 2, 3, 3])\n",
      "t2:  tensor([[[[ 1,  2,  3],\n",
      "          [ 4,  5,  6],\n",
      "          [ 7,  8,  9]],\n",
      "\n",
      "         [[10, 11, 12],\n",
      "          [13, 14, 15],\n",
      "          [16, 17, 18]]]])\n"
     ]
    }
   ],
   "source": [
    "# Creates a new dimension (which acts as dimension 0) and places the original tensor 't1' along this dimension.\n",
    "# To summarize, it just adds an additional container on top of our tensor 't1' to create 't2'.\n",
    "t2 = torch.unsqueeze(input=t1, dim = 0)\n",
    "print(\"shape: \", t2.shape)\n",
    "print(\"t2: \", t2)"
   ]
  },
  {
   "cell_type": "code",
   "execution_count": 7,
   "metadata": {},
   "outputs": [
    {
     "name": "stdout",
     "output_type": "stream",
     "text": [
      "shape:  torch.Size([2, 1, 3, 3])\n",
      "t3:  tensor([[[[ 1,  2,  3],\n",
      "          [ 4,  5,  6],\n",
      "          [ 7,  8,  9]]],\n",
      "\n",
      "\n",
      "        [[[10, 11, 12],\n",
      "          [13, 14, 15],\n",
      "          [16, 17, 18]]]])\n"
     ]
    }
   ],
   "source": [
    "# Traverse 1 level inside (1 container) 't1'. We get the 2 '2D' tensors [[1, 2, 3], [4, 5, 6], [7, 8, 9]] and \n",
    "# [[10, 11, 12], [13, 14, 15], [16, 17, 18]]. Each of these two tensors of shape (3, 3) are put inside another \n",
    "# container to create new tensors of shape (1, 3, 3). So, finally we get a '4D' tensor containing 2 '3D' tensors. \n",
    "t3 = torch.unsqueeze(input=t1, dim=1)\n",
    "print(\"shape: \", t3.shape)\n",
    "print(\"t3: \", t3)"
   ]
  },
  {
   "cell_type": "code",
   "execution_count": 8,
   "metadata": {},
   "outputs": [
    {
     "name": "stdout",
     "output_type": "stream",
     "text": [
      "shape:  torch.Size([2, 3, 1, 3])\n",
      "t4:  tensor([[[[ 1,  2,  3]],\n",
      "\n",
      "         [[ 4,  5,  6]],\n",
      "\n",
      "         [[ 7,  8,  9]]],\n",
      "\n",
      "\n",
      "        [[[10, 11, 12]],\n",
      "\n",
      "         [[13, 14, 15]],\n",
      "\n",
      "         [[16, 17, 18]]]])\n"
     ]
    }
   ],
   "source": [
    "# Traverse 2 levels inside (1 container) 't1'. We get the six '1D' tensors [1, 2, 3], [4, 5, 6], [7, 8, 9] and \n",
    "# [10, 11, 12], [13, 14, 15], [16, 17, 18]. Each of these six tensors of shape (3,) are put inside another \n",
    "# container to create new tensors of shape (1, 3). So, finally we get a '4D' tensor containing 2 '3D' tensors. \n",
    "t4 = torch.unsqueeze(input=t1, dim=2)\n",
    "print(\"shape: \", t4.shape)\n",
    "print(\"t4: \", t4)"
   ]
  },
  {
   "cell_type": "code",
   "execution_count": 16,
   "metadata": {},
   "outputs": [
    {
     "name": "stdout",
     "output_type": "stream",
     "text": [
      "tensor([[[[ 1],\n",
      "          [ 2],\n",
      "          [ 3]],\n",
      "\n",
      "         [[ 4],\n",
      "          [ 5],\n",
      "          [ 6]],\n",
      "\n",
      "         [[ 7],\n",
      "          [ 8],\n",
      "          [ 9]]],\n",
      "\n",
      "\n",
      "        [[[10],\n",
      "          [11],\n",
      "          [12]],\n",
      "\n",
      "         [[13],\n",
      "          [14],\n",
      "          [15]],\n",
      "\n",
      "         [[16],\n",
      "          [17],\n",
      "          [18]]]]) torch.Size([2, 3, 3, 1])\n"
     ]
    }
   ],
   "source": [
    "# Traverse 3 levels inside (1 container) 't1'. We get the 18 individual numbers 1, 2, 3, 4, 5, 6, 7, 8, 9, 10, \n",
    "# 11, 12, 13, 14, 15, 16, 17, 18. Each of these 18 numbers are put inside a container to create new tensors of shape (1,). \n",
    "t5 = torch.unsqueeze(input=t1, dim=3)\n",
    "print(t5, t5.shape)"
   ]
  },
  {
   "cell_type": "markdown",
   "metadata": {},
   "source": [
    "## [torch.nn.functional.pad](https://pytorch.org/docs/stable/generated/torch.nn.functional.pad.html#torch.nn.functional.pad)"
   ]
  },
  {
   "cell_type": "code",
   "execution_count": null,
   "metadata": {},
   "outputs": [],
   "source": [
    "# Pads the given 'input' tensor with the provided 'value'.\n",
    "# argument pad=(3, 2) means pads 3 values at the start and 2 values at the end for the tensors in the last dimension.\n",
    "# So, [10, 20] tensor when padded using pad=(3, 2) turns into [2.5, 2.5, 2.5, 10.0, 20.0, 2.5, 2.5].\n",
    "# Size in the last dimension increase by 3 + 2 = 5.\n",
    "#\n",
    "# In general, then pad has the following form:\n",
    "#\n",
    "# (padding_left, padding_right) to pad only the last dimension of the input tensor. \n",
    "# (padding_left, padding_right, padding_top, padding_bottom) to pad the last 2 dimensions of the input tensor.\n",
    "# (padding_left, padding_right, padding_top, padding_bottom, padding_front, padding_back) to pad the last 3 \n",
    "#       dimensions of the input tensor.\n",
    "# \n",
    "# Similary extend the logic to all higher dimensions.\n",
    "#"
   ]
  },
  {
   "cell_type": "code",
   "execution_count": 7,
   "metadata": {},
   "outputs": [
    {
     "name": "stdout",
     "output_type": "stream",
     "text": [
      "tensor([[[ 1.,  2.,  3.],\n",
      "         [ 4.,  5.,  6.]],\n",
      "\n",
      "        [[ 7.,  8.,  9.],\n",
      "         [10., 11., 12.]],\n",
      "\n",
      "        [[13., 14., 15.],\n",
      "         [16., 17., 18.]]], dtype=torch.float64) torch.Size([3, 2, 3])\n"
     ]
    }
   ],
   "source": [
    "t6 = torch.tensor([[[1, 2, 3], [4, 5, 6]], [[7, 8, 9], [10, 11, 12]], [[13, 14, 15], [16, 17, 18]]], dtype=float)\n",
    "print(t6, t6.shape)\n"
   ]
  },
  {
   "cell_type": "code",
   "execution_count": 6,
   "metadata": {},
   "outputs": [
    {
     "name": "stdout",
     "output_type": "stream",
     "text": [
      "tensor([[[ 2.5000,  2.5000,  2.5000,  1.0000,  2.0000,  3.0000,  2.5000,\n",
      "           2.5000],\n",
      "         [ 2.5000,  2.5000,  2.5000,  4.0000,  5.0000,  6.0000,  2.5000,\n",
      "           2.5000]],\n",
      "\n",
      "        [[ 2.5000,  2.5000,  2.5000,  7.0000,  8.0000,  9.0000,  2.5000,\n",
      "           2.5000],\n",
      "         [ 2.5000,  2.5000,  2.5000, 10.0000, 11.0000, 12.0000,  2.5000,\n",
      "           2.5000]],\n",
      "\n",
      "        [[ 2.5000,  2.5000,  2.5000, 13.0000, 14.0000, 15.0000,  2.5000,\n",
      "           2.5000],\n",
      "         [ 2.5000,  2.5000,  2.5000, 16.0000, 17.0000, 18.0000,  2.5000,\n",
      "           2.5000]]], dtype=torch.float64) torch.Size([3, 2, 8])\n"
     ]
    }
   ],
   "source": [
    "# Notice that it added 3 values at the start and 2 values at the end for the tensors in the last dimension.\n",
    "t7 = torch.nn.functional.pad(input=t6, pad=(3, 2), mode=\"constant\", value=2.5)\n",
    "print(t7, t7.shape)"
   ]
  },
  {
   "cell_type": "code",
   "execution_count": 8,
   "metadata": {},
   "outputs": [
    {
     "name": "stdout",
     "output_type": "stream",
     "text": [
      "tensor([[[ 2.5000,  2.5000,  2.5000,  2.5000,  2.5000,  2.5000,  2.5000,\n",
      "           2.5000],\n",
      "         [ 2.5000,  2.5000,  2.5000,  1.0000,  2.0000,  3.0000,  2.5000,\n",
      "           2.5000],\n",
      "         [ 2.5000,  2.5000,  2.5000,  4.0000,  5.0000,  6.0000,  2.5000,\n",
      "           2.5000],\n",
      "         [ 2.5000,  2.5000,  2.5000,  2.5000,  2.5000,  2.5000,  2.5000,\n",
      "           2.5000]],\n",
      "\n",
      "        [[ 2.5000,  2.5000,  2.5000,  2.5000,  2.5000,  2.5000,  2.5000,\n",
      "           2.5000],\n",
      "         [ 2.5000,  2.5000,  2.5000,  7.0000,  8.0000,  9.0000,  2.5000,\n",
      "           2.5000],\n",
      "         [ 2.5000,  2.5000,  2.5000, 10.0000, 11.0000, 12.0000,  2.5000,\n",
      "           2.5000],\n",
      "         [ 2.5000,  2.5000,  2.5000,  2.5000,  2.5000,  2.5000,  2.5000,\n",
      "           2.5000]],\n",
      "\n",
      "        [[ 2.5000,  2.5000,  2.5000,  2.5000,  2.5000,  2.5000,  2.5000,\n",
      "           2.5000],\n",
      "         [ 2.5000,  2.5000,  2.5000, 13.0000, 14.0000, 15.0000,  2.5000,\n",
      "           2.5000],\n",
      "         [ 2.5000,  2.5000,  2.5000, 16.0000, 17.0000, 18.0000,  2.5000,\n",
      "           2.5000],\n",
      "         [ 2.5000,  2.5000,  2.5000,  2.5000,  2.5000,  2.5000,  2.5000,\n",
      "           2.5000]]], dtype=torch.float64) torch.Size([3, 4, 8])\n"
     ]
    }
   ],
   "source": [
    "# Notice that it added two new 1D tensors for every 2D tensor. \n",
    "t8 = torch.nn.functional.pad(input=t6, pad=(3, 2, 1, 1), mode=\"constant\", value=2.5)\n",
    "print(t8, t8.shape)"
   ]
  },
  {
   "cell_type": "code",
   "execution_count": null,
   "metadata": {},
   "outputs": [],
   "source": []
  }
 ],
 "metadata": {
  "kernelspec": {
   "display_name": ".pytorch_venv",
   "language": "python",
   "name": "python3"
  },
  "language_info": {
   "codemirror_mode": {
    "name": "ipython",
    "version": 3
   },
   "file_extension": ".py",
   "mimetype": "text/x-python",
   "name": "python",
   "nbconvert_exporter": "python",
   "pygments_lexer": "ipython3",
   "version": "3.10.12"
  }
 },
 "nbformat": 4,
 "nbformat_minor": 2
}
