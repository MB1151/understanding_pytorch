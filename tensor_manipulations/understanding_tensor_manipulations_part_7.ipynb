{
 "cells": [
  {
   "cell_type": "code",
   "execution_count": null,
   "metadata": {},
   "outputs": [],
   "source": [
    "# In this notebook, you learn:\n",
    "#\n",
    "# 1) How torch.triu works?\n",
    "# 2) How torch.Tensor.masked_fill works?\n",
    "# 3) How torch.index_select works?"
   ]
  },
  {
   "cell_type": "code",
   "execution_count": 1,
   "metadata": {},
   "outputs": [],
   "source": [
    "import torch"
   ]
  },
  {
   "cell_type": "markdown",
   "metadata": {},
   "source": [
    "## [torch.triu](https://pytorch.org/docs/stable/generated/torch.triu.html#torch.triu)"
   ]
  },
  {
   "cell_type": "code",
   "execution_count": 3,
   "metadata": {},
   "outputs": [],
   "source": [
    "# This zero outs the lower triangular part of the matrix and returns an upper traingular matrix.\n",
    "# It also works for rectangular matrices."
   ]
  },
  {
   "cell_type": "code",
   "execution_count": 5,
   "metadata": {},
   "outputs": [
    {
     "name": "stdout",
     "output_type": "stream",
     "text": [
      "shape:  torch.Size([5, 5])\n",
      "t1:  tensor([[-1.6374,  2.5723, -1.1342, -0.2347,  0.3572],\n",
      "        [ 0.2100, -1.4732, -0.0893, -0.2497, -0.6651],\n",
      "        [ 0.9017,  0.8352,  1.8637, -1.3146,  1.2185],\n",
      "        [-2.2434, -0.5520, -1.1878, -0.3896,  0.0609],\n",
      "        [-0.9350, -0.1111,  1.6628, -1.4316, -0.0488]])\n"
     ]
    }
   ],
   "source": [
    "t1 = torch.randn(5, 5)\n",
    "print(\"shape: \", t1.shape)\n",
    "print(\"t1: \", t1)"
   ]
  },
  {
   "cell_type": "code",
   "execution_count": 6,
   "metadata": {},
   "outputs": [
    {
     "name": "stdout",
     "output_type": "stream",
     "text": [
      "shape:  torch.Size([5, 5])\n",
      "t2:  tensor([[-1.6374,  2.5723, -1.1342, -0.2347,  0.3572],\n",
      "        [ 0.0000, -1.4732, -0.0893, -0.2497, -0.6651],\n",
      "        [ 0.0000,  0.0000,  1.8637, -1.3146,  1.2185],\n",
      "        [ 0.0000,  0.0000,  0.0000, -0.3896,  0.0609],\n",
      "        [ 0.0000,  0.0000,  0.0000,  0.0000, -0.0488]])\n"
     ]
    }
   ],
   "source": [
    "# This zero outs the lower triangular part of the matrix and returns an upper traingular matrix.\n",
    "# The elements on the main diagonal are not touched.\n",
    "t2 = torch.triu(input=t1, diagonal=0)\n",
    "print(\"shape: \", t2.shape)\n",
    "print(\"t2: \", t2)"
   ]
  },
  {
   "cell_type": "code",
   "execution_count": 8,
   "metadata": {},
   "outputs": [],
   "source": [
    "# The diagonal parameter can be set to a non-zero value. If the diagonal parameter is set to a positive value, \n",
    "# in addition to setting the ower part of the matrix below the diagonal to zeros, it also sets the elements \n",
    "# on the diagonal and above the diagonal to zeros. The number diagonals to be zeroed out is equal to the number\n",
    "# specified by the diagonal parameter. The main diagonal is referenced by 1, the diagonal above the main \n",
    "# diagonal is referenced by 2, and so on. \n",
    "# \n",
    "# It works in a slightly different way when the diagonal parameter is set to a negative value. The diagonal\n",
    "# below the main diagonal is referenced by -1, the diagonal below that is referenced by -2, and so on.\n",
    "# So, if the diagonal parameter is set to -1, it will only zero out all the elements only below the diagonal \n",
    "# referenced by -1."
   ]
  },
  {
   "cell_type": "code",
   "execution_count": 7,
   "metadata": {},
   "outputs": [
    {
     "name": "stdout",
     "output_type": "stream",
     "text": [
      "shape:  torch.Size([5, 5])\n",
      "t3:  tensor([[ 0.0000,  2.5723, -1.1342, -0.2347,  0.3572],\n",
      "        [ 0.0000,  0.0000, -0.0893, -0.2497, -0.6651],\n",
      "        [ 0.0000,  0.0000,  0.0000, -1.3146,  1.2185],\n",
      "        [ 0.0000,  0.0000,  0.0000,  0.0000,  0.0609],\n",
      "        [ 0.0000,  0.0000,  0.0000,  0.0000,  0.0000]])\n"
     ]
    }
   ],
   "source": [
    "# Since the diagonal paramater is set to 1, the elements on the main diagonal are also set to zeros.\n",
    "t3 = torch.triu(input=t1, diagonal=1)\n",
    "print(\"shape: \", t3.shape)\n",
    "print(\"t3: \", t3)"
   ]
  },
  {
   "cell_type": "code",
   "execution_count": 9,
   "metadata": {},
   "outputs": [
    {
     "name": "stdout",
     "output_type": "stream",
     "text": [
      "shape:  torch.Size([5, 5])\n",
      "t4:  tensor([[ 0.0000,  0.0000, -1.1342, -0.2347,  0.3572],\n",
      "        [ 0.0000,  0.0000,  0.0000, -0.2497, -0.6651],\n",
      "        [ 0.0000,  0.0000,  0.0000,  0.0000,  1.2185],\n",
      "        [ 0.0000,  0.0000,  0.0000,  0.0000,  0.0000],\n",
      "        [ 0.0000,  0.0000,  0.0000,  0.0000,  0.0000]])\n"
     ]
    }
   ],
   "source": [
    "# Since the diagonal paramater is set to 2, the elements upto the diagonal referenced by 2 are set to zeros. \n",
    "t4 = torch.triu(input=t1, diagonal=2)\n",
    "print(\"shape: \", t4.shape)\n",
    "print(\"t4: \", t4)"
   ]
  },
  {
   "cell_type": "code",
   "execution_count": 10,
   "metadata": {},
   "outputs": [
    {
     "name": "stdout",
     "output_type": "stream",
     "text": [
      "shape:  torch.Size([5, 5])\n",
      "t5:  tensor([[-1.6374,  2.5723, -1.1342, -0.2347,  0.3572],\n",
      "        [ 0.2100, -1.4732, -0.0893, -0.2497, -0.6651],\n",
      "        [ 0.0000,  0.8352,  1.8637, -1.3146,  1.2185],\n",
      "        [ 0.0000,  0.0000, -1.1878, -0.3896,  0.0609],\n",
      "        [ 0.0000,  0.0000,  0.0000, -1.4316, -0.0488]])\n"
     ]
    }
   ],
   "source": [
    "# Since the diagonal paramater is set to -1, only the elements until the diagonal referenced by -1 are set \n",
    "# to zeros.\n",
    "t5 = torch.triu(input=t1, diagonal=-1)\n",
    "print(\"shape: \", t5.shape)\n",
    "print(\"t5: \", t5)"
   ]
  },
  {
   "cell_type": "code",
   "execution_count": 11,
   "metadata": {},
   "outputs": [
    {
     "name": "stdout",
     "output_type": "stream",
     "text": [
      "shape:  torch.Size([5, 5])\n",
      "t6:  tensor([[-1.6374,  2.5723, -1.1342, -0.2347,  0.3572],\n",
      "        [ 0.2100, -1.4732, -0.0893, -0.2497, -0.6651],\n",
      "        [ 0.9017,  0.8352,  1.8637, -1.3146,  1.2185],\n",
      "        [ 0.0000, -0.5520, -1.1878, -0.3896,  0.0609],\n",
      "        [ 0.0000,  0.0000,  1.6628, -1.4316, -0.0488]])\n"
     ]
    }
   ],
   "source": [
    "# Since the diagonal paramater is set to -2, only the elements until the diagonal referenced by -2 are set \n",
    "# to zeros.\n",
    "t6 = torch.triu(input=t1, diagonal=-2)\n",
    "print(\"shape: \", t6.shape)\n",
    "print(\"t6: \", t6)"
   ]
  },
  {
   "cell_type": "code",
   "execution_count": 12,
   "metadata": {},
   "outputs": [
    {
     "name": "stdout",
     "output_type": "stream",
     "text": [
      "shape:  torch.Size([6, 8])\n",
      "t6:  tensor([[ 0.9437, -1.0712,  0.5793, -1.6571,  0.8172, -0.5198,  0.6952,  0.3813],\n",
      "        [-1.2688, -0.0252, -1.6834, -0.4943, -0.2003, -0.5946, -1.8651, -0.7360],\n",
      "        [-1.9460, -0.1967,  1.2759, -1.3324,  2.0369, -1.0557, -0.9046, -1.5130],\n",
      "        [ 0.7944, -0.5504,  0.4719, -0.2772,  0.7654, -0.3927, -0.3990, -1.4614],\n",
      "        [ 0.2334,  0.4527,  1.1078,  0.4759, -0.6146, -0.3308,  0.0224, -0.1788],\n",
      "        [ 1.3209, -0.1060, -1.2837, -0.8006, -1.3743, -0.6603,  0.8471, -2.4122]])\n"
     ]
    }
   ],
   "source": [
    "# Now lets look at how torch.triu works for rectangular matrices. The definition of main diagonal is all the\n",
    "# elements where the row index is equal to the column index.\n",
    "t6 = torch.randn(6, 8)\n",
    "print(\"shape: \", t6.shape)\n",
    "print(\"t6: \", t6)"
   ]
  },
  {
   "cell_type": "code",
   "execution_count": 13,
   "metadata": {},
   "outputs": [
    {
     "name": "stdout",
     "output_type": "stream",
     "text": [
      "shape:  torch.Size([6, 8])\n",
      "t6:  tensor([[ 0.9437, -1.0712,  0.5793, -1.6571,  0.8172, -0.5198,  0.6952,  0.3813],\n",
      "        [ 0.0000, -0.0252, -1.6834, -0.4943, -0.2003, -0.5946, -1.8651, -0.7360],\n",
      "        [ 0.0000,  0.0000,  1.2759, -1.3324,  2.0369, -1.0557, -0.9046, -1.5130],\n",
      "        [ 0.0000,  0.0000,  0.0000, -0.2772,  0.7654, -0.3927, -0.3990, -1.4614],\n",
      "        [ 0.0000,  0.0000,  0.0000,  0.0000, -0.6146, -0.3308,  0.0224, -0.1788],\n",
      "        [ 0.0000,  0.0000,  0.0000,  0.0000,  0.0000, -0.6603,  0.8471, -2.4122]])\n"
     ]
    }
   ],
   "source": [
    "# All the elements below the main diagonal are set to zeros.\n",
    "t6 = torch.triu(input=t6, diagonal=0)\n",
    "print(\"shape: \", t6.shape)\n",
    "print(\"t6: \", t6)"
   ]
  },
  {
   "cell_type": "code",
   "execution_count": 14,
   "metadata": {},
   "outputs": [
    {
     "name": "stdout",
     "output_type": "stream",
     "text": [
      "shape:  torch.Size([6, 8])\n",
      "t7:  tensor([[ 0.0000, -1.0712,  0.5793, -1.6571,  0.8172, -0.5198,  0.6952,  0.3813],\n",
      "        [ 0.0000,  0.0000, -1.6834, -0.4943, -0.2003, -0.5946, -1.8651, -0.7360],\n",
      "        [ 0.0000,  0.0000,  0.0000, -1.3324,  2.0369, -1.0557, -0.9046, -1.5130],\n",
      "        [ 0.0000,  0.0000,  0.0000,  0.0000,  0.7654, -0.3927, -0.3990, -1.4614],\n",
      "        [ 0.0000,  0.0000,  0.0000,  0.0000,  0.0000, -0.3308,  0.0224, -0.1788],\n",
      "        [ 0.0000,  0.0000,  0.0000,  0.0000,  0.0000,  0.0000,  0.8471, -2.4122]])\n"
     ]
    }
   ],
   "source": [
    "# The elements on the main diagonal are also set to zero since the diagonal parameter is set to 1.\n",
    "t7 = torch.triu(input=t6, diagonal=1)\n",
    "print(\"shape: \", t7.shape)\n",
    "print(\"t7: \", t7)"
   ]
  },
  {
   "cell_type": "code",
   "execution_count": 15,
   "metadata": {},
   "outputs": [
    {
     "name": "stdout",
     "output_type": "stream",
     "text": [
      "shape:  torch.Size([6, 8])\n",
      "t8:  tensor([[ 0.0000,  0.0000,  0.5793, -1.6571,  0.8172, -0.5198,  0.6952,  0.3813],\n",
      "        [ 0.0000,  0.0000,  0.0000, -0.4943, -0.2003, -0.5946, -1.8651, -0.7360],\n",
      "        [ 0.0000,  0.0000,  0.0000,  0.0000,  2.0369, -1.0557, -0.9046, -1.5130],\n",
      "        [ 0.0000,  0.0000,  0.0000,  0.0000,  0.0000, -0.3927, -0.3990, -1.4614],\n",
      "        [ 0.0000,  0.0000,  0.0000,  0.0000,  0.0000,  0.0000,  0.0224, -0.1788],\n",
      "        [ 0.0000,  0.0000,  0.0000,  0.0000,  0.0000,  0.0000,  0.0000, -2.4122]])\n"
     ]
    }
   ],
   "source": [
    "t8 = torch.triu(input=t6, diagonal=2)\n",
    "print(\"shape: \", t8.shape)\n",
    "print(\"t8: \", t8)"
   ]
  },
  {
   "cell_type": "markdown",
   "metadata": {},
   "source": [
    "## [torch.tensor.masked_fill](https://pytorch.org/docs/stable/generated/torch.Tensor.masked_fill_.html#torch-tensor-masked-fill)"
   ]
  },
  {
   "cell_type": "code",
   "execution_count": 8,
   "metadata": {},
   "outputs": [
    {
     "name": "stdout",
     "output_type": "stream",
     "text": [
      "shape:  torch.Size([5, 6])\n",
      "t9: \n",
      " tensor([[139, 112, 185, 121,  10,  10],\n",
      "        [154,  66, 144,  78,   4, 184],\n",
      "        [122,  69,   6,  44, 192,  67],\n",
      "        [ 65,  71, 125, 199, 101, 149],\n",
      "        [166,  42,  73,  22, 141, 185]])\n"
     ]
    }
   ],
   "source": [
    "t9 = torch.randint(low=1, high=200, size=(5, 6))\n",
    "print(\"shape: \", t9.shape)\n",
    "print(\"t9: \\n\", t9)"
   ]
  },
  {
   "cell_type": "code",
   "execution_count": 9,
   "metadata": {},
   "outputs": [
    {
     "name": "stdout",
     "output_type": "stream",
     "text": [
      "shape:  torch.Size([5, 6])\n",
      "t10: \n",
      " tensor([[ True,  True,  True,  True, False, False],\n",
      "        [False, False,  True, False,  True, False],\n",
      "        [ True, False, False, False,  True, False],\n",
      "        [ True, False, False,  True,  True,  True],\n",
      "        [False, False,  True, False,  True,  True]])\n"
     ]
    }
   ],
   "source": [
    "t10 = torch.randint(low=-30, high=30, size=(5, 6)) < 0\n",
    "print(\"shape: \", t10.shape)\n",
    "print(\"t10: \\n\", t10)"
   ]
  },
  {
   "cell_type": "code",
   "execution_count": 10,
   "metadata": {},
   "outputs": [
    {
     "name": "stdout",
     "output_type": "stream",
     "text": [
      "shape:  torch.Size([5, 6])\n",
      "t11: \n",
      " tensor([[ 78,  78,  78,  78,  10,  10],\n",
      "        [154,  66,  78,  78,  78, 184],\n",
      "        [ 78,  69,   6,  44,  78,  67],\n",
      "        [ 78,  71, 125,  78,  78,  78],\n",
      "        [166,  42,  78,  22,  78,  78]])\n"
     ]
    }
   ],
   "source": [
    "# masked_fill replaces the elements in the tensor with the specified value where the mask is True.\n",
    "t11 = t9.masked_fill(mask=t10, value=78)\n",
    "print(\"shape: \", t11.shape)\n",
    "print(\"t11: \\n\", t11)"
   ]
  },
  {
   "cell_type": "markdown",
   "metadata": {},
   "source": [
    "## [torch.index_select](https://pytorch.org/docs/stable/generated/torch.index_select.html)"
   ]
  },
  {
   "cell_type": "code",
   "execution_count": null,
   "metadata": {},
   "outputs": [],
   "source": [
    "# This is to select a few sub-tensors from a tensor based on the indices and return a new tensor. This\n",
    "# is straight forward when the tensor is 1D or 2D. However, when the tensor is 3D or more, it is a bit\n",
    "# tricky."
   ]
  },
  {
   "cell_type": "code",
   "execution_count": 4,
   "metadata": {},
   "outputs": [
    {
     "name": "stdout",
     "output_type": "stream",
     "text": [
      "shape:  torch.Size([4, 5])\n",
      "t12: \n",
      " tensor([[-1.3549,  0.1244, -1.2694, -1.0895,  1.6906],\n",
      "        [ 1.5157, -1.3576, -0.8575,  1.2428, -0.7041],\n",
      "        [ 1.4359, -0.3758,  1.1248, -1.1707,  0.3895],\n",
      "        [-1.0861, -0.7470, -1.0660,  0.1809, -0.6891]])\n"
     ]
    }
   ],
   "source": [
    "t12 = torch.randn(size=[4, 5], dtype=torch.float32)\n",
    "print(\"shape: \", t12.shape)\n",
    "print(\"t12: \\n\", t12)"
   ]
  },
  {
   "cell_type": "code",
   "execution_count": 5,
   "metadata": {},
   "outputs": [
    {
     "name": "stdout",
     "output_type": "stream",
     "text": [
      "t13_indices shape:  torch.Size([2])\n",
      "t13_indices:  tensor([0, 3])\n"
     ]
    }
   ],
   "source": [
    "t13_indices = torch.tensor([0, 3])\n",
    "print(\"t13_indices shape: \", t13_indices.shape)\n",
    "print(\"t13_indices: \", t13_indices)"
   ]
  },
  {
   "cell_type": "code",
   "execution_count": 6,
   "metadata": {},
   "outputs": [
    {
     "name": "stdout",
     "output_type": "stream",
     "text": [
      "shape:  torch.Size([2, 5])\n",
      "t14: \n",
      " tensor([[-1.3549,  0.1244, -1.2694, -1.0895,  1.6906],\n",
      "        [-1.0861, -0.7470, -1.0660,  0.1809, -0.6891]])\n"
     ]
    }
   ],
   "source": [
    "# dim is the dimension along which the indices are selected. In this case, the indices are selected along the\n",
    "# 0th dimension. The indices are 0 and 3. So, the 0th and 3rd rows are selected. \n",
    "t14 = torch.index_select(input=t12, dim=0, index=t13_indices)\n",
    "print(\"shape: \", t14.shape)\n",
    "print(\"t14: \\n\", t14)"
   ]
  },
  {
   "cell_type": "code",
   "execution_count": 7,
   "metadata": {},
   "outputs": [
    {
     "name": "stdout",
     "output_type": "stream",
     "text": [
      "shape:  torch.Size([4, 2])\n",
      "t15: \n",
      " tensor([[-1.3549, -1.0895],\n",
      "        [ 1.5157,  1.2428],\n",
      "        [ 1.4359, -1.1707],\n",
      "        [-1.0861,  0.1809]])\n"
     ]
    }
   ],
   "source": [
    "# Since dim is set to 1, the indices are selected along the 1st dimension. The 0th and 3rd columns are selected.\n",
    "t15 = torch.index_select(input=t12, dim=1, index=t13_indices)\n",
    "print(\"shape: \", t15.shape)\n",
    "print(\"t15: \\n\", t15)"
   ]
  },
  {
   "cell_type": "markdown",
   "metadata": {},
   "source": [
    "#### Lets see how index_select works for a 3D tensor"
   ]
  },
  {
   "cell_type": "code",
   "execution_count": 8,
   "metadata": {},
   "outputs": [
    {
     "name": "stdout",
     "output_type": "stream",
     "text": [
      "shape:  torch.Size([3, 4, 5])\n",
      "t16: \n",
      " tensor([[[ 0,  1,  2,  3,  4],\n",
      "         [ 5,  6,  7,  8,  9],\n",
      "         [10, 11, 12, 13, 14],\n",
      "         [15, 16, 17, 18, 19]],\n",
      "\n",
      "        [[20, 21, 22, 23, 24],\n",
      "         [25, 26, 27, 28, 29],\n",
      "         [30, 31, 32, 33, 34],\n",
      "         [35, 36, 37, 38, 39]],\n",
      "\n",
      "        [[40, 41, 42, 43, 44],\n",
      "         [45, 46, 47, 48, 49],\n",
      "         [50, 51, 52, 53, 54],\n",
      "         [55, 56, 57, 58, 59]]])\n"
     ]
    }
   ],
   "source": [
    "t16 = torch.arange(60).reshape(3, 4, 5)\n",
    "print(\"shape: \", t16.shape)\n",
    "print(\"t16: \\n\", t16)"
   ]
  },
  {
   "cell_type": "code",
   "execution_count": 11,
   "metadata": {},
   "outputs": [
    {
     "name": "stdout",
     "output_type": "stream",
     "text": [
      "t17_indices shape:  torch.Size([2])\n",
      "t17_indices:  tensor([0, 1])\n"
     ]
    }
   ],
   "source": [
    "t17_indices = torch.tensor([0, 1])\n",
    "print(\"t17_indices shape: \", t17_indices.shape)\n",
    "print(\"t17_indices: \", t17_indices)"
   ]
  },
  {
   "cell_type": "code",
   "execution_count": 13,
   "metadata": {},
   "outputs": [
    {
     "name": "stdout",
     "output_type": "stream",
     "text": [
      "shape:  torch.Size([2, 4, 5])\n",
      "t18: \n",
      " tensor([[[ 0,  1,  2,  3,  4],\n",
      "         [ 5,  6,  7,  8,  9],\n",
      "         [10, 11, 12, 13, 14],\n",
      "         [15, 16, 17, 18, 19]],\n",
      "\n",
      "        [[20, 21, 22, 23, 24],\n",
      "         [25, 26, 27, 28, 29],\n",
      "         [30, 31, 32, 33, 34],\n",
      "         [35, 36, 37, 38, 39]]])\n"
     ]
    }
   ],
   "source": [
    "# dim is set to 0. So, the 0th and 1st tensors are selected along the 0th dimension.\n",
    "t18 = torch.index_select(input=t16, dim=0, index=t17_indices)\n",
    "print(\"shape: \", t18.shape)\n",
    "print(\"t18: \\n\", t18)"
   ]
  },
  {
   "cell_type": "code",
   "execution_count": null,
   "metadata": {},
   "outputs": [
    {
     "name": "stdout",
     "output_type": "stream",
     "text": [
      "shape:  torch.Size([3, 2, 5])\n",
      "t19: \n",
      " tensor([[[ 0,  1,  2,  3,  4],\n",
      "         [ 5,  6,  7,  8,  9]],\n",
      "\n",
      "        [[20, 21, 22, 23, 24],\n",
      "         [25, 26, 27, 28, 29]],\n",
      "\n",
      "        [[40, 41, 42, 43, 44],\n",
      "         [45, 46, 47, 48, 49]]])\n"
     ]
    }
   ],
   "source": [
    "# Lets understand the behaviour here when dim is set to 1. It seems a bit surprising at first. \n",
    "# When dim is set to 1, it is traversing 2 levels deep into the original tensor t16. Then, it is selecting\n",
    "# the 0th and 1st tensors along the 0th dimension in each of those tensors obtained after traversing 2 levels.\n",
    "#\n",
    "# Tensors obtained after traversing 2 levels deep:\n",
    "# tensor([[ 0,  1,  2,  3,  4],\n",
    "#         [ 5,  6,  7,  8,  9],\n",
    "#         [10, 11, 12, 13, 14],\n",
    "#         [15, 16, 17, 18, 19]])\n",
    "\n",
    "# tensor([[20, 21, 22, 23, 24],\n",
    "#         [25, 26, 27, 28, 29],\n",
    "#         [30, 31, 32, 33, 34],\n",
    "#         [35, 36, 37, 38, 39]])\n",
    "#\n",
    "# tensor([[40, 41, 42, 43, 44],\n",
    "#         [45, 46, 47, 48, 49],\n",
    "#         [50, 51, 52, 53, 54],\n",
    "#         [55, 56, 57, 58, 59]])\n",
    "# \n",
    "# Now, coming to the selection in each of the tensors obtained after traversing 2 levels deep:\n",
    "#\n",
    "# In the first tensor, the 0th and 1st tensors along the 0th dimension are:\n",
    "# tensor([[ 0,  1,  2,  3,  4],\n",
    "#         [ 5,  6,  7,  8,  9]])\n",
    "# which are part of the output tensor.\n",
    "#\n",
    "#\n",
    "# In the second tensor, the 0th and 1st tensors along the 0th dimension are:\n",
    "# tensor([[20, 21, 22, 23, 24],\n",
    "#         [25, 26, 27, 28, 29]])\n",
    "# which are part of the output tensor.\n",
    "#\n",
    "#\n",
    "# In the third tensor, the 0th and 1st tensors along the 0th dimension are:\n",
    "# tensor([[40, 41, 42, 43, 44],\n",
    "#         [45, 46, 47, 48, 49]])\n",
    "# which are part of the output tensor.\n",
    "#\n",
    "# However, the original shape in all other dimensions is retained. So, the output tensor is of shape (3, 2, 5).\n",
    "t19 = torch.index_select(input=t16, dim=1, index=t17_indices)\n",
    "print(\"shape: \", t19.shape)\n",
    "print(\"t19: \\n\", t19)"
   ]
  },
  {
   "cell_type": "code",
   "execution_count": null,
   "metadata": {},
   "outputs": [
    {
     "name": "stdout",
     "output_type": "stream",
     "text": [
      "shape:  torch.Size([3, 4, 2])\n",
      "t20: \n",
      " tensor([[[ 0,  1],\n",
      "         [ 5,  6],\n",
      "         [10, 11],\n",
      "         [15, 16]],\n",
      "\n",
      "        [[20, 21],\n",
      "         [25, 26],\n",
      "         [30, 31],\n",
      "         [35, 36]],\n",
      "\n",
      "        [[40, 41],\n",
      "         [45, 46],\n",
      "         [50, 51],\n",
      "         [55, 56]]])\n"
     ]
    }
   ],
   "source": [
    "# When dim is set to 2, it is traversing 3 levels deep into the original tensor t16. Then, it is selecting\n",
    "# the 0th and 1st tensors along the 0th dimension in each of those tensors obtained after traversing 3 levels.\n",
    "#\n",
    "# Tensors obtained after traversing 3 levels deep:\n",
    "# tensor([ 0,  1,  2,  3,  4])\n",
    "# tensor([ 5,  6,  7,  8,  9])\n",
    "# tensor([10, 11, 12, 13, 14])\n",
    "# tensor([15, 16, 17, 18, 19])\n",
    "# tensor([20, 21, 22, 23, 24])\n",
    "# tensor([25, 26, 27, 28, 29])\n",
    "# tensor([30, 31, 32, 33, 34])\n",
    "# tensor([35, 36, 37, 38, 39])\n",
    "# tensor([40, 41, 42, 43, 44])\n",
    "# tensor([45, 46, 47, 48, 49])\n",
    "# tensor([50, 51, 52, 53, 54])\n",
    "# tensor([55, 56, 57, 58, 59])\n",
    "#\n",
    "# For each of the tensors obtained after traversing 3 levels deep, the 0th and 1st tensors along the 0th dimension\n",
    "# are selected. The output tensor is of shape (3, 4, 2).\n",
    "t20 = torch.index_select(input=t16, dim=2, index=t17_indices)\n",
    "print(\"shape: \", t20.shape)\n",
    "print(\"t20: \\n\", t20)"
   ]
  },
  {
   "cell_type": "code",
   "execution_count": 16,
   "metadata": {},
   "outputs": [
    {
     "name": "stdout",
     "output_type": "stream",
     "text": [
      "t21_indices shape:  torch.Size([5])\n",
      "t21_indices:  tensor([0, 0, 0, 1, 1])\n"
     ]
    }
   ],
   "source": [
    "# index_select can also be used to select the same tensor multiple times. The indices can be repeated.\n",
    "t21_indices = torch.tensor([0, 0, 0, 1, 1])\n",
    "print(\"t21_indices shape: \", t21_indices.shape)\n",
    "print(\"t21_indices: \", t21_indices)"
   ]
  },
  {
   "cell_type": "code",
   "execution_count": null,
   "metadata": {},
   "outputs": [
    {
     "name": "stdout",
     "output_type": "stream",
     "text": [
      "shape:  torch.Size([5, 4, 5])\n",
      "t22: \n",
      " tensor([[[ 0,  1,  2,  3,  4],\n",
      "         [ 5,  6,  7,  8,  9],\n",
      "         [10, 11, 12, 13, 14],\n",
      "         [15, 16, 17, 18, 19]],\n",
      "\n",
      "        [[ 0,  1,  2,  3,  4],\n",
      "         [ 5,  6,  7,  8,  9],\n",
      "         [10, 11, 12, 13, 14],\n",
      "         [15, 16, 17, 18, 19]],\n",
      "\n",
      "        [[ 0,  1,  2,  3,  4],\n",
      "         [ 5,  6,  7,  8,  9],\n",
      "         [10, 11, 12, 13, 14],\n",
      "         [15, 16, 17, 18, 19]],\n",
      "\n",
      "        [[20, 21, 22, 23, 24],\n",
      "         [25, 26, 27, 28, 29],\n",
      "         [30, 31, 32, 33, 34],\n",
      "         [35, 36, 37, 38, 39]],\n",
      "\n",
      "        [[20, 21, 22, 23, 24],\n",
      "         [25, 26, 27, 28, 29],\n",
      "         [30, 31, 32, 33, 34],\n",
      "         [35, 36, 37, 38, 39]]])\n"
     ]
    }
   ],
   "source": [
    "# As expected, the 0th tensor is selected 3 times and the 1st tensor is selected 2 times.\n",
    "t22 = torch.index_select(input=t16, dim=0, index=t21_indices)\n",
    "print(\"shape: \", t22.shape)\n",
    "print(\"t22: \\n\", t22)"
   ]
  },
  {
   "cell_type": "code",
   "execution_count": null,
   "metadata": {},
   "outputs": [],
   "source": []
  }
 ],
 "metadata": {
  "kernelspec": {
   "display_name": ".pytorch_venv",
   "language": "python",
   "name": "python3"
  },
  "language_info": {
   "codemirror_mode": {
    "name": "ipython",
    "version": 3
   },
   "file_extension": ".py",
   "mimetype": "text/x-python",
   "name": "python",
   "nbconvert_exporter": "python",
   "pygments_lexer": "ipython3",
   "version": "3.10.12"
  }
 },
 "nbformat": 4,
 "nbformat_minor": 2
}
