{
 "cells": [
  {
   "cell_type": "code",
   "execution_count": 1,
   "metadata": {},
   "outputs": [],
   "source": [
    "# In this notebook, you learn:\n",
    "#\n",
    "# 1) How to build a simple neural network using pytorch modules?"
   ]
  },
  {
   "cell_type": "code",
   "execution_count": null,
   "metadata": {},
   "outputs": [],
   "source": [
    "# my_neural_network_1.pt file is created from this notebook."
   ]
  },
  {
   "cell_type": "code",
   "execution_count": 1,
   "metadata": {},
   "outputs": [],
   "source": [
    "import torch\n",
    "from torch import nn"
   ]
  },
  {
   "cell_type": "code",
   "execution_count": 12,
   "metadata": {},
   "outputs": [],
   "source": [
    "DATA_PATH = \"../data\""
   ]
  },
  {
   "cell_type": "code",
   "execution_count": 2,
   "metadata": {},
   "outputs": [],
   "source": [
    "# Building a simple Neural Network using pytorch's modules.\n",
    "# Please refer to 'using_modules.ipynb' to understand why / how to use modules in pytorch.\n",
    "class SimpleNeuralNetwork(nn.Module):\n",
    "    def __init__(self, num_neurons: int):\n",
    "        super().__init__()\n",
    "        # Please refer to 'understanding_nn_linear.ipynb' to understand more about nn.Linear.\n",
    "        # Please refer to 'using_modules.ipynb' to understand more about nn.Sequential.        \n",
    "        self.layers = nn.Sequential(\n",
    "            nn.Linear(in_features=1, out_features=num_neurons),\n",
    "            nn.Tanh(),\n",
    "            nn.Linear(num_neurons, 1)\n",
    "        )\n",
    "    \n",
    "    def forward(self, input: torch.tensor):\n",
    "        return self.layers(input)"
   ]
  },
  {
   "cell_type": "code",
   "execution_count": 3,
   "metadata": {},
   "outputs": [],
   "source": [
    "def PrintModelParameters(model):\n",
    "  for name, param in model.named_parameters():\n",
    "    print(\"\\nPrinting Model Parameters:\\n\\n\", f\"{name}: {param.data}\")\n",
    "    if param.requires_grad:\n",
    "      print(\"\\nPrinting Parameter Gradients:\\n\\n\", f\"{name}: {param.grad}\")"
   ]
  },
  {
   "cell_type": "code",
   "execution_count": 4,
   "metadata": {},
   "outputs": [
    {
     "name": "stdout",
     "output_type": "stream",
     "text": [
      "SimpleNeuralNetwork(\n",
      "  (layers): Sequential(\n",
      "    (0): Linear(in_features=1, out_features=5, bias=True)\n",
      "    (1): Tanh()\n",
      "    (2): Linear(in_features=5, out_features=1, bias=True)\n",
      "  )\n",
      ")\n",
      "<class '__main__.SimpleNeuralNetwork'>\n"
     ]
    },
    {
     "name": "stderr",
     "output_type": "stream",
     "text": [
      "/home/maneesh/Learning/AI/Frameworks/Pytorch/Understanding_Pytorch/.pytorch_venv/lib/python3.10/site-packages/torch/nn/init.py:459: UserWarning: Failed to initialize NumPy: No module named 'numpy' (Triggered internally at ../torch/csrc/utils/tensor_numpy.cpp:84.)\n",
      "  return tensor.uniform_(-bound, bound, generator=generator)\n"
     ]
    }
   ],
   "source": [
    "my_neural_network = SimpleNeuralNetwork(num_neurons=5)\n",
    "print(my_neural_network)\n",
    "print(type(my_neural_network))"
   ]
  },
  {
   "cell_type": "code",
   "execution_count": 5,
   "metadata": {},
   "outputs": [
    {
     "name": "stdout",
     "output_type": "stream",
     "text": [
      "<generator object Module.parameters at 0x7f1af19d0900>\n",
      "\n",
      "Printing Model Parameters:\n",
      "\n",
      " layers.0.weight: tensor([[ 0.7836],\n",
      "        [-0.8324],\n",
      "        [-0.0088],\n",
      "        [ 0.2037],\n",
      "        [ 0.1733]])\n",
      "\n",
      "Printing Parameter Gradients:\n",
      "\n",
      " layers.0.weight: None\n",
      "\n",
      "Printing Model Parameters:\n",
      "\n",
      " layers.0.bias: tensor([ 0.0155, -0.7627, -0.3980, -0.3574, -0.8783])\n",
      "\n",
      "Printing Parameter Gradients:\n",
      "\n",
      " layers.0.bias: None\n",
      "\n",
      "Printing Model Parameters:\n",
      "\n",
      " layers.2.weight: tensor([[ 0.2078,  0.1689,  0.1135, -0.2080, -0.1796]])\n",
      "\n",
      "Printing Parameter Gradients:\n",
      "\n",
      " layers.2.weight: None\n",
      "\n",
      "Printing Model Parameters:\n",
      "\n",
      " layers.2.bias: tensor([0.3998])\n",
      "\n",
      "Printing Parameter Gradients:\n",
      "\n",
      " layers.2.bias: None\n"
     ]
    }
   ],
   "source": [
    "print(my_neural_network.parameters())\n",
    "PrintModelParameters(model=my_neural_network)"
   ]
  },
  {
   "cell_type": "code",
   "execution_count": 6,
   "metadata": {},
   "outputs": [
    {
     "name": "stdout",
     "output_type": "stream",
     "text": [
      "MSELoss()\n"
     ]
    }
   ],
   "source": [
    "# Create a loss function to use an optimizing function and train the neural network.\n",
    "loss_function = nn.MSELoss()\n",
    "print(loss_function)"
   ]
  },
  {
   "cell_type": "code",
   "execution_count": 7,
   "metadata": {},
   "outputs": [
    {
     "name": "stdout",
     "output_type": "stream",
     "text": [
      "SGD (\n",
      "Parameter Group 0\n",
      "    dampening: 0\n",
      "    differentiable: False\n",
      "    foreach: None\n",
      "    fused: None\n",
      "    lr: 0.003\n",
      "    maximize: False\n",
      "    momentum: 0.9\n",
      "    nesterov: False\n",
      "    weight_decay: 0\n",
      ")\n"
     ]
    }
   ],
   "source": [
    "learning_rate = 0.003\n",
    "# Optimizer algorithm to calculate and update the gradients.\n",
    "# NOTE: ADD A RESOURCE THAT EXPLAINS MORE ABOUT THIS OPTIMIZER.\n",
    "sgd_optimizer = torch.optim.SGD(params=my_neural_network.parameters(), lr=learning_rate, momentum=0.9)\n",
    "print(sgd_optimizer)"
   ]
  },
  {
   "cell_type": "code",
   "execution_count": 8,
   "metadata": {},
   "outputs": [
    {
     "name": "stdout",
     "output_type": "stream",
     "text": [
      "torch.Size([2, 1])\n",
      "tensor([[2.],\n",
      "        [5.]])\n"
     ]
    }
   ],
   "source": [
    "inputs = torch.tensor([[2.0], [5.0]])\n",
    "print(inputs.shape)\n",
    "print(inputs)"
   ]
  },
  {
   "cell_type": "code",
   "execution_count": 9,
   "metadata": {},
   "outputs": [
    {
     "name": "stdout",
     "output_type": "stream",
     "text": [
      "torch.Size([2, 1])\n",
      "tensor([[2.6000],\n",
      "        [4.7000]])\n"
     ]
    }
   ],
   "source": [
    "targets = torch.tensor([[2.6], [4.7]])\n",
    "print(targets.shape)\n",
    "print(targets)"
   ]
  },
  {
   "cell_type": "code",
   "execution_count": 10,
   "metadata": {},
   "outputs": [
    {
     "name": "stdout",
     "output_type": "stream",
     "text": [
      "Printing predictions:  tensor([[0.4569],\n",
      "        [0.2731]], grad_fn=<AddmmBackward0>)\n",
      "Total Loss:  tensor(12.0953, grad_fn=<MseLossBackward0>)\n",
      "\n",
      "Printing Model Parameters:\n",
      "\n",
      " layers.0.weight: tensor([[ 0.7840],\n",
      "        [-0.8323],\n",
      "        [-0.0013],\n",
      "        [ 0.1919],\n",
      "        [ 0.1596]])\n",
      "\n",
      "Printing Parameter Gradients:\n",
      "\n",
      " layers.0.weight: tensor([[-0.1455],\n",
      "        [-0.0230],\n",
      "        [-2.4916],\n",
      "        [ 3.9498],\n",
      "        [ 4.5623]])\n",
      "\n",
      "Printing Model Parameters:\n",
      "\n",
      " layers.0.bias: tensor([ 0.0158, -0.7627, -0.3962, -0.3606, -0.8815])\n",
      "\n",
      "Printing Parameter Gradients:\n",
      "\n",
      " layers.0.bias: tensor([-0.0706, -0.0113, -0.6217,  1.0568,  1.0887])\n",
      "\n",
      "Printing Model Parameters:\n",
      "\n",
      " layers.2.weight: tensor([[ 0.2270,  0.1493,  0.1055, -0.2000, -0.1829]])\n",
      "\n",
      "Printing Parameter Gradients:\n",
      "\n",
      " layers.2.weight: tensor([[-6.3931,  6.5365,  2.6804, -2.6709,  1.0943]])\n",
      "\n",
      "Printing Model Parameters:\n",
      "\n",
      " layers.2.bias: tensor([0.4195])\n",
      "\n",
      "Printing Parameter Gradients:\n",
      "\n",
      " layers.2.bias: tensor([-6.5700])\n"
     ]
    }
   ],
   "source": [
    "# Perform 1 training loop on the SampleNeuralNetwork above.\n",
    "\n",
    "# Reset all the gradients to zero. This is done so that the gradients of the previous loop do not \n",
    "# affect the gradients of the current loop. Here, this is not necessary because we are only running \n",
    "# 1 training loop (epoch). However, in general, this is a required step.\n",
    "sgd_optimizer.zero_grad()\n",
    "# Forward pass computing the output of the model on the inputs.\n",
    "predictions = my_neural_network(input=inputs)\n",
    "print(\"Printing predictions: \", predictions)\n",
    "loss = loss_function(predictions, targets)\n",
    "print(\"Total Loss: \", loss)\n",
    "# Perform backpropagation to compute the gradients and save them in 'grad' variable.\n",
    "loss.backward()\n",
    "# Update the parameters of the neural network.\n",
    "sgd_optimizer.step()\n",
    "# Print the model parameters.\n",
    "PrintModelParameters(my_neural_network)"
   ]
  },
  {
   "cell_type": "code",
   "execution_count": 13,
   "metadata": {},
   "outputs": [],
   "source": [
    "# The trained model can be saved to disk and loaded later as needed to resume the training\n",
    "# or use the model for inference.\n",
    "# All the required information of a model (trainable parameters + non-trainable parameters) are saved\n",
    "# in the state_dict (state dictionary) attribute.\n",
    "torch.save(my_neural_network.state_dict(), f\"{DATA_PATH}/my_neural_network_1.pt\")"
   ]
  },
  {
   "cell_type": "code",
   "execution_count": 14,
   "metadata": {},
   "outputs": [
    {
     "name": "stdout",
     "output_type": "stream",
     "text": [
      "SimpleNeuralNetwork(\n",
      "  (layers): Sequential(\n",
      "    (0): Linear(in_features=1, out_features=5, bias=True)\n",
      "    (1): Tanh()\n",
      "    (2): Linear(in_features=5, out_features=1, bias=True)\n",
      "  )\n",
      ")\n"
     ]
    }
   ],
   "source": [
    "loaded_neural_network_1 = SimpleNeuralNetwork(num_neurons=5)\n",
    "loaded_neural_network_1.load_state_dict(state_dict=torch.load(f=f\"{DATA_PATH}/my_neural_network_1.pt\"))\n",
    "print(loaded_neural_network_1)"
   ]
  },
  {
   "cell_type": "code",
   "execution_count": null,
   "metadata": {},
   "outputs": [],
   "source": []
  }
 ],
 "metadata": {
  "kernelspec": {
   "display_name": ".pytorch_venv",
   "language": "python",
   "name": "python3"
  },
  "language_info": {
   "codemirror_mode": {
    "name": "ipython",
    "version": 3
   },
   "file_extension": ".py",
   "mimetype": "text/x-python",
   "name": "python",
   "nbconvert_exporter": "python",
   "pygments_lexer": "ipython3",
   "version": "3.10.12"
  }
 },
 "nbformat": 4,
 "nbformat_minor": 2
}
